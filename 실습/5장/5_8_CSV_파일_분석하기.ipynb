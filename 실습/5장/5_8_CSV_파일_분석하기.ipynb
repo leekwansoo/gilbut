{
 "cells": [
  {
   "cell_type": "code",
   "execution_count": 1,
   "id": "28cf019e",
   "metadata": {},
   "outputs": [
    {
     "name": "stdout",
     "output_type": "stream",
     "text": [
      "Requirement already satisfied: langchain-experimental in e:\\anaconda3\\envs\\llm_3.9\\lib\\site-packages (0.0.55)\n",
      "Requirement already satisfied: langchain<0.2.0,>=0.1.13 in e:\\anaconda3\\envs\\llm_3.9\\lib\\site-packages (from langchain-experimental) (0.1.13)\n",
      "Requirement already satisfied: langchain-core<0.2.0,>=0.1.33 in e:\\anaconda3\\envs\\llm_3.9\\lib\\site-packages (from langchain-experimental) (0.1.36)\n",
      "Requirement already satisfied: PyYAML>=5.3 in e:\\anaconda3\\envs\\llm_3.9\\lib\\site-packages (from langchain<0.2.0,>=0.1.13->langchain-experimental) (6.0.1)\n",
      "Requirement already satisfied: SQLAlchemy<3,>=1.4 in e:\\anaconda3\\envs\\llm_3.9\\lib\\site-packages (from langchain<0.2.0,>=0.1.13->langchain-experimental) (2.0.29)\n",
      "Requirement already satisfied: aiohttp<4.0.0,>=3.8.3 in e:\\anaconda3\\envs\\llm_3.9\\lib\\site-packages (from langchain<0.2.0,>=0.1.13->langchain-experimental) (3.9.3)\n",
      "Requirement already satisfied: async-timeout<5.0.0,>=4.0.0 in e:\\anaconda3\\envs\\llm_3.9\\lib\\site-packages (from langchain<0.2.0,>=0.1.13->langchain-experimental) (4.0.3)\n",
      "Requirement already satisfied: dataclasses-json<0.7,>=0.5.7 in e:\\anaconda3\\envs\\llm_3.9\\lib\\site-packages (from langchain<0.2.0,>=0.1.13->langchain-experimental) (0.6.4)\n",
      "Requirement already satisfied: jsonpatch<2.0,>=1.33 in e:\\anaconda3\\envs\\llm_3.9\\lib\\site-packages (from langchain<0.2.0,>=0.1.13->langchain-experimental) (1.33)\n",
      "Requirement already satisfied: langchain-community<0.1,>=0.0.29 in e:\\anaconda3\\envs\\llm_3.9\\lib\\site-packages (from langchain<0.2.0,>=0.1.13->langchain-experimental) (0.0.29)\n",
      "Requirement already satisfied: langchain-text-splitters<0.1,>=0.0.1 in e:\\anaconda3\\envs\\llm_3.9\\lib\\site-packages (from langchain<0.2.0,>=0.1.13->langchain-experimental) (0.0.1)\n",
      "Requirement already satisfied: langsmith<0.2.0,>=0.1.17 in e:\\anaconda3\\envs\\llm_3.9\\lib\\site-packages (from langchain<0.2.0,>=0.1.13->langchain-experimental) (0.1.38)\n",
      "Requirement already satisfied: numpy<2,>=1 in e:\\anaconda3\\envs\\llm_3.9\\lib\\site-packages (from langchain<0.2.0,>=0.1.13->langchain-experimental) (1.26.4)\n",
      "Requirement already satisfied: pydantic<3,>=1 in e:\\anaconda3\\envs\\llm_3.9\\lib\\site-packages (from langchain<0.2.0,>=0.1.13->langchain-experimental) (2.6.4)\n",
      "Requirement already satisfied: requests<3,>=2 in e:\\anaconda3\\envs\\llm_3.9\\lib\\site-packages (from langchain<0.2.0,>=0.1.13->langchain-experimental) (2.31.0)\n",
      "Requirement already satisfied: tenacity<9.0.0,>=8.1.0 in e:\\anaconda3\\envs\\llm_3.9\\lib\\site-packages (from langchain<0.2.0,>=0.1.13->langchain-experimental) (8.2.3)\n",
      "Requirement already satisfied: packaging<24.0,>=23.2 in e:\\anaconda3\\envs\\llm_3.9\\lib\\site-packages (from langchain-core<0.2.0,>=0.1.33->langchain-experimental) (23.2)\n",
      "Requirement already satisfied: aiosignal>=1.1.2 in e:\\anaconda3\\envs\\llm_3.9\\lib\\site-packages (from aiohttp<4.0.0,>=3.8.3->langchain<0.2.0,>=0.1.13->langchain-experimental) (1.3.1)\n",
      "Requirement already satisfied: attrs>=17.3.0 in e:\\anaconda3\\envs\\llm_3.9\\lib\\site-packages (from aiohttp<4.0.0,>=3.8.3->langchain<0.2.0,>=0.1.13->langchain-experimental) (23.2.0)\n",
      "Requirement already satisfied: frozenlist>=1.1.1 in e:\\anaconda3\\envs\\llm_3.9\\lib\\site-packages (from aiohttp<4.0.0,>=3.8.3->langchain<0.2.0,>=0.1.13->langchain-experimental) (1.4.1)\n",
      "Requirement already satisfied: multidict<7.0,>=4.5 in e:\\anaconda3\\envs\\llm_3.9\\lib\\site-packages (from aiohttp<4.0.0,>=3.8.3->langchain<0.2.0,>=0.1.13->langchain-experimental) (6.0.5)\n",
      "Requirement already satisfied: yarl<2.0,>=1.0 in e:\\anaconda3\\envs\\llm_3.9\\lib\\site-packages (from aiohttp<4.0.0,>=3.8.3->langchain<0.2.0,>=0.1.13->langchain-experimental) (1.9.4)\n",
      "Requirement already satisfied: marshmallow<4.0.0,>=3.18.0 in e:\\anaconda3\\envs\\llm_3.9\\lib\\site-packages (from dataclasses-json<0.7,>=0.5.7->langchain<0.2.0,>=0.1.13->langchain-experimental) (3.21.1)\n",
      "Requirement already satisfied: typing-inspect<1,>=0.4.0 in e:\\anaconda3\\envs\\llm_3.9\\lib\\site-packages (from dataclasses-json<0.7,>=0.5.7->langchain<0.2.0,>=0.1.13->langchain-experimental) (0.9.0)\n",
      "Requirement already satisfied: jsonpointer>=1.9 in e:\\anaconda3\\envs\\llm_3.9\\lib\\site-packages (from jsonpatch<2.0,>=1.33->langchain<0.2.0,>=0.1.13->langchain-experimental) (2.4)\n",
      "Requirement already satisfied: orjson<4.0.0,>=3.9.14 in e:\\anaconda3\\envs\\llm_3.9\\lib\\site-packages (from langsmith<0.2.0,>=0.1.17->langchain<0.2.0,>=0.1.13->langchain-experimental) (3.10.0)\n",
      "Requirement already satisfied: annotated-types>=0.4.0 in e:\\anaconda3\\envs\\llm_3.9\\lib\\site-packages (from pydantic<3,>=1->langchain<0.2.0,>=0.1.13->langchain-experimental) (0.6.0)\n",
      "Requirement already satisfied: pydantic-core==2.16.3 in e:\\anaconda3\\envs\\llm_3.9\\lib\\site-packages (from pydantic<3,>=1->langchain<0.2.0,>=0.1.13->langchain-experimental) (2.16.3)\n",
      "Requirement already satisfied: typing-extensions>=4.6.1 in e:\\anaconda3\\envs\\llm_3.9\\lib\\site-packages (from pydantic<3,>=1->langchain<0.2.0,>=0.1.13->langchain-experimental) (4.10.0)\n",
      "Requirement already satisfied: charset-normalizer<4,>=2 in e:\\anaconda3\\envs\\llm_3.9\\lib\\site-packages (from requests<3,>=2->langchain<0.2.0,>=0.1.13->langchain-experimental) (3.3.2)\n",
      "Requirement already satisfied: idna<4,>=2.5 in e:\\anaconda3\\envs\\llm_3.9\\lib\\site-packages (from requests<3,>=2->langchain<0.2.0,>=0.1.13->langchain-experimental) (3.6)\n",
      "Requirement already satisfied: urllib3<3,>=1.21.1 in e:\\anaconda3\\envs\\llm_3.9\\lib\\site-packages (from requests<3,>=2->langchain<0.2.0,>=0.1.13->langchain-experimental) (2.2.1)\n",
      "Requirement already satisfied: certifi>=2017.4.17 in e:\\anaconda3\\envs\\llm_3.9\\lib\\site-packages (from requests<3,>=2->langchain<0.2.0,>=0.1.13->langchain-experimental) (2024.2.2)\n",
      "Requirement already satisfied: greenlet!=0.4.17 in e:\\anaconda3\\envs\\llm_3.9\\lib\\site-packages (from SQLAlchemy<3,>=1.4->langchain<0.2.0,>=0.1.13->langchain-experimental) (3.0.3)\n",
      "Requirement already satisfied: mypy-extensions>=0.3.0 in e:\\anaconda3\\envs\\llm_3.9\\lib\\site-packages (from typing-inspect<1,>=0.4.0->dataclasses-json<0.7,>=0.5.7->langchain<0.2.0,>=0.1.13->langchain-experimental) (1.0.0)\n"
     ]
    }
   ],
   "source": [
    "!pip install langchain-experimental"
   ]
  },
  {
   "cell_type": "code",
   "execution_count": 2,
   "id": "b682e116",
   "metadata": {},
   "outputs": [
    {
     "name": "stdout",
     "output_type": "stream",
     "text": [
      "Requirement already satisfied: tabulate in e:\\anaconda3\\envs\\llm_3.9\\lib\\site-packages (0.9.0)\n"
     ]
    }
   ],
   "source": [
    "!pip install tabulate"
   ]
  },
  {
   "cell_type": "code",
   "execution_count": 3,
   "id": "17e224e3",
   "metadata": {},
   "outputs": [
    {
     "name": "stdout",
     "output_type": "stream",
     "text": [
      "Requirement already satisfied: pandas in e:\\anaconda3\\envs\\llm_3.9\\lib\\site-packages (2.2.1)\n",
      "Requirement already satisfied: numpy<2,>=1.22.4 in e:\\anaconda3\\envs\\llm_3.9\\lib\\site-packages (from pandas) (1.26.4)\n",
      "Requirement already satisfied: python-dateutil>=2.8.2 in e:\\anaconda3\\envs\\llm_3.9\\lib\\site-packages (from pandas) (2.9.0.post0)\n",
      "Requirement already satisfied: pytz>=2020.1 in e:\\anaconda3\\envs\\llm_3.9\\lib\\site-packages (from pandas) (2024.1)\n",
      "Requirement already satisfied: tzdata>=2022.7 in e:\\anaconda3\\envs\\llm_3.9\\lib\\site-packages (from pandas) (2024.1)\n",
      "Requirement already satisfied: six>=1.5 in e:\\anaconda3\\envs\\llm_3.9\\lib\\site-packages (from python-dateutil>=2.8.2->pandas) (1.16.0)\n"
     ]
    }
   ],
   "source": [
    "!pip install pandas"
   ]
  },
  {
   "cell_type": "code",
   "execution_count": 4,
   "id": "8cce51aa",
   "metadata": {},
   "outputs": [
    {
     "name": "stdout",
     "output_type": "stream",
     "text": [
      "Requirement already satisfied: openai in e:\\anaconda3\\envs\\llm_3.9\\lib\\site-packages (1.14.3)\n",
      "Requirement already satisfied: anyio<5,>=3.5.0 in e:\\anaconda3\\envs\\llm_3.9\\lib\\site-packages (from openai) (4.3.0)\n",
      "Requirement already satisfied: distro<2,>=1.7.0 in e:\\anaconda3\\envs\\llm_3.9\\lib\\site-packages (from openai) (1.9.0)\n",
      "Requirement already satisfied: httpx<1,>=0.23.0 in e:\\anaconda3\\envs\\llm_3.9\\lib\\site-packages (from openai) (0.27.0)\n",
      "Requirement already satisfied: pydantic<3,>=1.9.0 in e:\\anaconda3\\envs\\llm_3.9\\lib\\site-packages (from openai) (2.6.4)\n",
      "Requirement already satisfied: sniffio in e:\\anaconda3\\envs\\llm_3.9\\lib\\site-packages (from openai) (1.3.1)\n",
      "Requirement already satisfied: tqdm>4 in e:\\anaconda3\\envs\\llm_3.9\\lib\\site-packages (from openai) (4.66.2)\n",
      "Requirement already satisfied: typing-extensions<5,>=4.7 in e:\\anaconda3\\envs\\llm_3.9\\lib\\site-packages (from openai) (4.10.0)\n",
      "Requirement already satisfied: idna>=2.8 in e:\\anaconda3\\envs\\llm_3.9\\lib\\site-packages (from anyio<5,>=3.5.0->openai) (3.6)\n",
      "Requirement already satisfied: exceptiongroup>=1.0.2 in e:\\anaconda3\\envs\\llm_3.9\\lib\\site-packages (from anyio<5,>=3.5.0->openai) (1.2.0)\n",
      "Requirement already satisfied: certifi in e:\\anaconda3\\envs\\llm_3.9\\lib\\site-packages (from httpx<1,>=0.23.0->openai) (2024.2.2)\n",
      "Requirement already satisfied: httpcore==1.* in e:\\anaconda3\\envs\\llm_3.9\\lib\\site-packages (from httpx<1,>=0.23.0->openai) (1.0.5)\n",
      "Requirement already satisfied: h11<0.15,>=0.13 in e:\\anaconda3\\envs\\llm_3.9\\lib\\site-packages (from httpcore==1.*->httpx<1,>=0.23.0->openai) (0.14.0)\n",
      "Requirement already satisfied: annotated-types>=0.4.0 in e:\\anaconda3\\envs\\llm_3.9\\lib\\site-packages (from pydantic<3,>=1.9.0->openai) (0.6.0)\n",
      "Requirement already satisfied: pydantic-core==2.16.3 in e:\\anaconda3\\envs\\llm_3.9\\lib\\site-packages (from pydantic<3,>=1.9.0->openai) (2.16.3)\n",
      "Requirement already satisfied: colorama in e:\\anaconda3\\envs\\llm_3.9\\lib\\site-packages (from tqdm>4->openai) (0.4.6)\n"
     ]
    }
   ],
   "source": [
    "!pip install openai"
   ]
  },
  {
   "cell_type": "code",
   "execution_count": 5,
   "id": "81d875c3",
   "metadata": {},
   "outputs": [
    {
     "data": {
      "text/html": [
       "<div>\n",
       "<style scoped>\n",
       "    .dataframe tbody tr th:only-of-type {\n",
       "        vertical-align: middle;\n",
       "    }\n",
       "\n",
       "    .dataframe tbody tr th {\n",
       "        vertical-align: top;\n",
       "    }\n",
       "\n",
       "    .dataframe thead th {\n",
       "        text-align: right;\n",
       "    }\n",
       "</style>\n",
       "<table border=\"1\" class=\"dataframe\">\n",
       "  <thead>\n",
       "    <tr style=\"text-align: right;\">\n",
       "      <th></th>\n",
       "      <th>title</th>\n",
       "      <th>subtitle</th>\n",
       "      <th>authors</th>\n",
       "      <th>categories</th>\n",
       "      <th>thumbnail</th>\n",
       "      <th>description</th>\n",
       "      <th>published_year</th>\n",
       "      <th>average_rating</th>\n",
       "      <th>num_pages</th>\n",
       "      <th>ratings_count</th>\n",
       "    </tr>\n",
       "  </thead>\n",
       "  <tbody>\n",
       "    <tr>\n",
       "      <th>0</th>\n",
       "      <td>Gilead</td>\n",
       "      <td>NaN</td>\n",
       "      <td>Marilynne Robinson</td>\n",
       "      <td>Fiction</td>\n",
       "      <td>http://books.google.com/books/content?id=KQZCP...</td>\n",
       "      <td>A NOVEL THAT READERS and critics have been eag...</td>\n",
       "      <td>2004</td>\n",
       "      <td>3.85</td>\n",
       "      <td>247</td>\n",
       "      <td>361</td>\n",
       "    </tr>\n",
       "    <tr>\n",
       "      <th>1</th>\n",
       "      <td>Spider's Web</td>\n",
       "      <td>A Novel</td>\n",
       "      <td>Charles Osborne;Agatha Christie</td>\n",
       "      <td>Detective and mystery stories</td>\n",
       "      <td>http://books.google.com/books/content?id=gA5GP...</td>\n",
       "      <td>A new 'Christie for Christmas' -- a full-lengt...</td>\n",
       "      <td>2000</td>\n",
       "      <td>3.83</td>\n",
       "      <td>241</td>\n",
       "      <td>5164</td>\n",
       "    </tr>\n",
       "    <tr>\n",
       "      <th>2</th>\n",
       "      <td>The One Tree</td>\n",
       "      <td>NaN</td>\n",
       "      <td>Stephen R. Donaldson</td>\n",
       "      <td>American fiction</td>\n",
       "      <td>http://books.google.com/books/content?id=OmQaw...</td>\n",
       "      <td>Volume Two of Stephen Donaldson's acclaimed se...</td>\n",
       "      <td>1982</td>\n",
       "      <td>3.97</td>\n",
       "      <td>479</td>\n",
       "      <td>172</td>\n",
       "    </tr>\n",
       "    <tr>\n",
       "      <th>3</th>\n",
       "      <td>Rage of angels</td>\n",
       "      <td>NaN</td>\n",
       "      <td>Sidney Sheldon</td>\n",
       "      <td>Fiction</td>\n",
       "      <td>http://books.google.com/books/content?id=FKo2T...</td>\n",
       "      <td>A memorable, mesmerizing heroine Jennifer -- b...</td>\n",
       "      <td>1993</td>\n",
       "      <td>3.93</td>\n",
       "      <td>512</td>\n",
       "      <td>29532</td>\n",
       "    </tr>\n",
       "    <tr>\n",
       "      <th>4</th>\n",
       "      <td>The Four Loves</td>\n",
       "      <td>NaN</td>\n",
       "      <td>Clive Staples Lewis</td>\n",
       "      <td>Christian life</td>\n",
       "      <td>http://books.google.com/books/content?id=XhQ5X...</td>\n",
       "      <td>Lewis' work on the nature of love divides love...</td>\n",
       "      <td>2002</td>\n",
       "      <td>4.15</td>\n",
       "      <td>170</td>\n",
       "      <td>33684</td>\n",
       "    </tr>\n",
       "  </tbody>\n",
       "</table>\n",
       "</div>"
      ],
      "text/plain": [
       "            title subtitle                          authors  \\\n",
       "0          Gilead      NaN               Marilynne Robinson   \n",
       "1    Spider's Web  A Novel  Charles Osborne;Agatha Christie   \n",
       "2    The One Tree      NaN             Stephen R. Donaldson   \n",
       "3  Rage of angels      NaN                   Sidney Sheldon   \n",
       "4  The Four Loves      NaN              Clive Staples Lewis   \n",
       "\n",
       "                      categories  \\\n",
       "0                        Fiction   \n",
       "1  Detective and mystery stories   \n",
       "2               American fiction   \n",
       "3                        Fiction   \n",
       "4                 Christian life   \n",
       "\n",
       "                                           thumbnail  \\\n",
       "0  http://books.google.com/books/content?id=KQZCP...   \n",
       "1  http://books.google.com/books/content?id=gA5GP...   \n",
       "2  http://books.google.com/books/content?id=OmQaw...   \n",
       "3  http://books.google.com/books/content?id=FKo2T...   \n",
       "4  http://books.google.com/books/content?id=XhQ5X...   \n",
       "\n",
       "                                         description  published_year  \\\n",
       "0  A NOVEL THAT READERS and critics have been eag...            2004   \n",
       "1  A new 'Christie for Christmas' -- a full-lengt...            2000   \n",
       "2  Volume Two of Stephen Donaldson's acclaimed se...            1982   \n",
       "3  A memorable, mesmerizing heroine Jennifer -- b...            1993   \n",
       "4  Lewis' work on the nature of love divides love...            2002   \n",
       "\n",
       "   average_rating  num_pages  ratings_count  \n",
       "0            3.85        247            361  \n",
       "1            3.83        241           5164  \n",
       "2            3.97        479            172  \n",
       "3            3.93        512          29532  \n",
       "4            4.15        170          33684  "
      ]
     },
     "execution_count": 5,
     "metadata": {},
     "output_type": "execute_result"
    }
   ],
   "source": [
    "import pandas as pd #파이썬 언어로 작성된 데이터를 분석 및 조작하기 위한 라이브러리\n",
    "\n",
    "#csv 파일을 데이터프레임으로 가져오기\n",
    "df = pd.read_csv('e:/data/booksv_02.csv') #booksv_02.csv 파일이 위치한 경로 지정\n",
    "df.head()"
   ]
  },
  {
   "cell_type": "code",
   "execution_count": 6,
   "id": "918ffe10",
   "metadata": {},
   "outputs": [
    {
     "name": "stderr",
     "output_type": "stream",
     "text": [
      "e:\\anaconda3\\envs\\llm_3.9\\lib\\site-packages\\langchain_core\\_api\\deprecation.py:117: LangChainDeprecationWarning: The class `langchain_community.chat_models.openai.ChatOpenAI` was deprecated in langchain-community 0.0.10 and will be removed in 0.2.0. An updated version of the class exists in the langchain-openai package and should be used instead. To use it run `pip install -U langchain-openai` and import as `from langchain_openai import ChatOpenAI`.\n",
      "  warn_deprecated(\n"
     ]
    }
   ],
   "source": [
    "from langchain_experimental.agents.agent_toolkits import create_pandas_dataframe_agent\n",
    "from langchain.chat_models import ChatOpenAI\n",
    "from langchain.agents.agent_types import AgentType\n",
    "import os\n",
    "os.environ[\"OPENAI_API_KEY\"] = \"sk-\" #openai 키 입력\n",
    "\n",
    "# 에이전트 생성\n",
    "agent = create_pandas_dataframe_agent(\n",
    "    ChatOpenAI(temperature=0, \n",
    "               model='gpt-3.5-turbo-16k-0613'),        #gpt-3.5-turbo 사용\n",
    "    df,                                    #데이터가 담긴 곳\n",
    "    verbose=False,                          #추론 과정을 출력하지 않음\n",
    "    agent_type=AgentType.OPENAI_FUNCTIONS, \n",
    ")"
   ]
  },
  {
   "cell_type": "code",
   "execution_count": 7,
   "id": "b62d8b6a",
   "metadata": {},
   "outputs": [
    {
     "name": "stderr",
     "output_type": "stream",
     "text": [
      "e:\\anaconda3\\envs\\llm_3.9\\lib\\site-packages\\langchain_core\\_api\\deprecation.py:117: LangChainDeprecationWarning: The function `run` was deprecated in LangChain 0.1.0 and will be removed in 0.2.0. Use invoke instead.\n",
      "  warn_deprecated(\n"
     ]
    },
    {
     "data": {
      "text/plain": [
       "'제품 중에서 ratings_count가 가장 높은 책은 \"One Hundred Years of Solitude\"입니다.'"
      ]
     },
     "execution_count": 7,
     "metadata": {},
     "output_type": "execute_result"
    }
   ],
   "source": [
    "agent.run('어떤 제품의 ratings_count가 제일 높아?')"
   ]
  },
  {
   "cell_type": "code",
   "execution_count": 8,
   "id": "6af5ff1a",
   "metadata": {},
   "outputs": [
    {
     "data": {
      "text/plain": [
       "'가장 최근에 출간된 책은 \"The Yiddish Policemen\\'s Union\"입니다.'"
      ]
     },
     "execution_count": 8,
     "metadata": {},
     "output_type": "execute_result"
    }
   ],
   "source": [
    "agent.run('가장 최근에 출간된 책은?')"
   ]
  },
  {
   "cell_type": "code",
   "execution_count": null,
   "id": "192ce4ca",
   "metadata": {},
   "outputs": [],
   "source": []
  }
 ],
 "metadata": {
  "kernelspec": {
   "display_name": "llm",
   "language": "python",
   "name": "llm_3.9"
  },
  "language_info": {
   "codemirror_mode": {
    "name": "ipython",
    "version": 3
   },
   "file_extension": ".py",
   "mimetype": "text/x-python",
   "name": "python",
   "nbconvert_exporter": "python",
   "pygments_lexer": "ipython3",
   "version": "3.9.19"
  }
 },
 "nbformat": 4,
 "nbformat_minor": 5
}
