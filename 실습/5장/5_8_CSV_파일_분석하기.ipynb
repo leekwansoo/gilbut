{
 "cells": [
  {
   "cell_type": "code",
   "execution_count": null,
   "id": "28cf019e",
   "metadata": {},
   "outputs": [],
   "source": [
    "!pip install langchain-experimental"
   ]
  },
  {
   "cell_type": "code",
   "execution_count": 2,
   "id": "b682e116",
   "metadata": {},
   "outputs": [
    {
     "name": "stdout",
     "output_type": "stream",
     "text": [
      "Requirement already satisfied: tabulate in e:\\anaconda3\\envs\\llm_3.9\\lib\\site-packages (0.9.0)\n"
     ]
    }
   ],
   "source": [
    "!pip install tabulate"
   ]
  },
  {
   "cell_type": "code",
   "execution_count": null,
   "id": "17e224e3",
   "metadata": {},
   "outputs": [],
   "source": [
    "!pip install pandas"
   ]
  },
  {
   "cell_type": "code",
   "execution_count": null,
   "id": "8cce51aa",
   "metadata": {},
   "outputs": [],
   "source": [
    "!pip install openai"
   ]
  },
  {
   "cell_type": "code",
   "execution_count": null,
   "id": "81d875c3",
   "metadata": {},
   "outputs": [],
   "source": [
    "import pandas as pd #파이썬 언어로 작성된 데이터를 분석 및 조작하기 위한 라이브러리\n",
    "\n",
    "#csv 파일을 데이터프레임으로 가져오기\n",
    "df = pd.read_csv('e:/data/booksv_02.csv') #booksv_02.csv 파일이 위치한 경로 지정\n",
    "df.head()"
   ]
  },
  {
   "cell_type": "code",
   "execution_count": null,
   "id": "918ffe10",
   "metadata": {},
   "outputs": [],
   "source": [
    "from langchain_experimental.agents.agent_toolkits import create_pandas_dataframe_agent\n",
    "from langchain.chat_models import ChatOpenAI\n",
    "from langchain.agents.agent_types import AgentType\n",
    "import os\n",
    "os.environ[\"OPENAI_API_KEY\"] = \"sk-\" #openai 키 입력\n",
    "\n",
    "# 에이전트 생성\n",
    "agent = create_pandas_dataframe_agent(\n",
    "    ChatOpenAI(temperature=0, \n",
    "               model='gpt-3.5-turbo-16k-0613'),        #gpt-3.5-turbo 사용\n",
    "    df,                                    #데이터가 담긴 곳\n",
    "    verbose=False,                          #추론 과정을 출력하지 않음\n",
    "    agent_type=AgentType.OPENAI_FUNCTIONS, \n",
    ")"
   ]
  },
  {
   "cell_type": "code",
   "execution_count": null,
   "id": "b62d8b6a",
   "metadata": {},
   "outputs": [],
   "source": [
    "agent.run('어떤 제품의 ratings_count가 제일 높아?')"
   ]
  },
  {
   "cell_type": "code",
   "execution_count": null,
   "id": "6af5ff1a",
   "metadata": {},
   "outputs": [],
   "source": [
    "agent.run('가장 최근에 출간된 책은?')"
   ]
  },
  {
   "cell_type": "code",
   "execution_count": null,
   "id": "192ce4ca",
   "metadata": {},
   "outputs": [],
   "source": []
  }
 ],
 "metadata": {
  "kernelspec": {
   "display_name": "llm",
   "language": "python",
   "name": "llm_3.9"
  },
  "language_info": {
   "codemirror_mode": {
    "name": "ipython",
    "version": 3
   },
   "file_extension": ".py",
   "mimetype": "text/x-python",
   "name": "python",
   "nbconvert_exporter": "python",
   "pygments_lexer": "ipython3",
   "version": "3.9.19"
  }
 },
 "nbformat": 4,
 "nbformat_minor": 5
}
