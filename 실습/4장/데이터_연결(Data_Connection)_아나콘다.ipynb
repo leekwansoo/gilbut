{
 "cells": [
  {
   "cell_type": "code",
   "execution_count": 1,
   "id": "13415685",
   "metadata": {},
   "outputs": [
    {
     "name": "stdout",
     "output_type": "stream",
     "text": [
      "Requirement already satisfied: langchain in e:\\anaconda3\\envs\\openai\\lib\\site-packages (0.1.13)\n",
      "Requirement already satisfied: PyYAML>=5.3 in e:\\anaconda3\\envs\\openai\\lib\\site-packages (from langchain) (6.0.1)\n",
      "Requirement already satisfied: SQLAlchemy<3,>=1.4 in e:\\anaconda3\\envs\\openai\\lib\\site-packages (from langchain) (2.0.29)\n",
      "Requirement already satisfied: aiohttp<4.0.0,>=3.8.3 in e:\\anaconda3\\envs\\openai\\lib\\site-packages (from langchain) (3.9.3)\n",
      "Requirement already satisfied: async-timeout<5.0.0,>=4.0.0 in e:\\anaconda3\\envs\\openai\\lib\\site-packages (from langchain) (4.0.3)\n",
      "Requirement already satisfied: dataclasses-json<0.7,>=0.5.7 in e:\\anaconda3\\envs\\openai\\lib\\site-packages (from langchain) (0.6.4)\n",
      "Requirement already satisfied: jsonpatch<2.0,>=1.33 in e:\\anaconda3\\envs\\openai\\lib\\site-packages (from langchain) (1.33)\n",
      "Requirement already satisfied: langchain-community<0.1,>=0.0.29 in e:\\anaconda3\\envs\\openai\\lib\\site-packages (from langchain) (0.0.29)\n",
      "Requirement already satisfied: langchain-core<0.2.0,>=0.1.33 in e:\\anaconda3\\envs\\openai\\lib\\site-packages (from langchain) (0.1.36)\n",
      "Requirement already satisfied: langchain-text-splitters<0.1,>=0.0.1 in e:\\anaconda3\\envs\\openai\\lib\\site-packages (from langchain) (0.0.1)\n",
      "Requirement already satisfied: langsmith<0.2.0,>=0.1.17 in e:\\anaconda3\\envs\\openai\\lib\\site-packages (from langchain) (0.1.38)\n",
      "Requirement already satisfied: numpy<2,>=1 in e:\\anaconda3\\envs\\openai\\lib\\site-packages (from langchain) (1.24.4)\n",
      "Requirement already satisfied: pydantic<3,>=1 in e:\\anaconda3\\envs\\openai\\lib\\site-packages (from langchain) (2.6.4)\n",
      "Requirement already satisfied: requests<3,>=2 in e:\\anaconda3\\envs\\openai\\lib\\site-packages (from langchain) (2.31.0)\n",
      "Requirement already satisfied: tenacity<9.0.0,>=8.1.0 in e:\\anaconda3\\envs\\openai\\lib\\site-packages (from langchain) (8.2.3)\n",
      "Requirement already satisfied: aiosignal>=1.1.2 in e:\\anaconda3\\envs\\openai\\lib\\site-packages (from aiohttp<4.0.0,>=3.8.3->langchain) (1.3.1)\n",
      "Requirement already satisfied: attrs>=17.3.0 in e:\\anaconda3\\envs\\openai\\lib\\site-packages (from aiohttp<4.0.0,>=3.8.3->langchain) (23.2.0)\n",
      "Requirement already satisfied: frozenlist>=1.1.1 in e:\\anaconda3\\envs\\openai\\lib\\site-packages (from aiohttp<4.0.0,>=3.8.3->langchain) (1.4.1)\n",
      "Requirement already satisfied: multidict<7.0,>=4.5 in e:\\anaconda3\\envs\\openai\\lib\\site-packages (from aiohttp<4.0.0,>=3.8.3->langchain) (6.0.5)\n",
      "Requirement already satisfied: yarl<2.0,>=1.0 in e:\\anaconda3\\envs\\openai\\lib\\site-packages (from aiohttp<4.0.0,>=3.8.3->langchain) (1.9.4)\n",
      "Requirement already satisfied: marshmallow<4.0.0,>=3.18.0 in e:\\anaconda3\\envs\\openai\\lib\\site-packages (from dataclasses-json<0.7,>=0.5.7->langchain) (3.21.1)\n",
      "Requirement already satisfied: typing-inspect<1,>=0.4.0 in e:\\anaconda3\\envs\\openai\\lib\\site-packages (from dataclasses-json<0.7,>=0.5.7->langchain) (0.9.0)\n",
      "Requirement already satisfied: jsonpointer>=1.9 in e:\\anaconda3\\envs\\openai\\lib\\site-packages (from jsonpatch<2.0,>=1.33->langchain) (2.4)\n",
      "Requirement already satisfied: packaging<24.0,>=23.2 in e:\\anaconda3\\envs\\openai\\lib\\site-packages (from langchain-core<0.2.0,>=0.1.33->langchain) (23.2)\n",
      "Requirement already satisfied: orjson<4.0.0,>=3.9.14 in e:\\anaconda3\\envs\\openai\\lib\\site-packages (from langsmith<0.2.0,>=0.1.17->langchain) (3.10.0)\n",
      "Requirement already satisfied: annotated-types>=0.4.0 in e:\\anaconda3\\envs\\openai\\lib\\site-packages (from pydantic<3,>=1->langchain) (0.6.0)\n",
      "Requirement already satisfied: pydantic-core==2.16.3 in e:\\anaconda3\\envs\\openai\\lib\\site-packages (from pydantic<3,>=1->langchain) (2.16.3)\n",
      "Requirement already satisfied: typing-extensions>=4.6.1 in e:\\anaconda3\\envs\\openai\\lib\\site-packages (from pydantic<3,>=1->langchain) (4.9.0)\n",
      "Requirement already satisfied: charset-normalizer<4,>=2 in e:\\anaconda3\\envs\\openai\\lib\\site-packages (from requests<3,>=2->langchain) (3.3.2)\n",
      "Requirement already satisfied: idna<4,>=2.5 in e:\\anaconda3\\envs\\openai\\lib\\site-packages (from requests<3,>=2->langchain) (3.6)\n",
      "Requirement already satisfied: urllib3<3,>=1.21.1 in e:\\anaconda3\\envs\\openai\\lib\\site-packages (from requests<3,>=2->langchain) (2.2.1)\n",
      "Requirement already satisfied: certifi>=2017.4.17 in e:\\anaconda3\\envs\\openai\\lib\\site-packages (from requests<3,>=2->langchain) (2024.2.2)\n",
      "Requirement already satisfied: greenlet!=0.4.17 in e:\\anaconda3\\envs\\openai\\lib\\site-packages (from SQLAlchemy<3,>=1.4->langchain) (3.0.3)\n",
      "Requirement already satisfied: mypy-extensions>=0.3.0 in e:\\anaconda3\\envs\\openai\\lib\\site-packages (from typing-inspect<1,>=0.4.0->dataclasses-json<0.7,>=0.5.7->langchain) (1.0.0)\n"
     ]
    },
    {
     "name": "stderr",
     "output_type": "stream",
     "text": [
      "WARNING: Ignoring invalid distribution -pype1 (c:\\users\\jyseo\\appdata\\roaming\\python\\python38\\site-packages)\n",
      "WARNING: Ignoring invalid distribution -pype1 (c:\\users\\jyseo\\appdata\\roaming\\python\\python38\\site-packages)\n",
      "WARNING: Ignoring invalid distribution -pype1 (c:\\users\\jyseo\\appdata\\roaming\\python\\python38\\site-packages)\n",
      "WARNING: Ignoring invalid distribution -pype1 (c:\\users\\jyseo\\appdata\\roaming\\python\\python38\\site-packages)\n",
      "WARNING: Ignoring invalid distribution -pype1 (c:\\users\\jyseo\\appdata\\roaming\\python\\python38\\site-packages)\n",
      "WARNING: Ignoring invalid distribution -pype1 (c:\\users\\jyseo\\appdata\\roaming\\python\\python38\\site-packages)\n"
     ]
    }
   ],
   "source": [
    "!pip install langchain"
   ]
  },
  {
   "cell_type": "code",
   "execution_count": 2,
   "id": "f14419d8",
   "metadata": {},
   "outputs": [
    {
     "name": "stdout",
     "output_type": "stream",
     "text": [
      "Requirement already satisfied: openai in e:\\anaconda3\\envs\\openai\\lib\\site-packages (1.14.3)\n",
      "Requirement already satisfied: anyio<5,>=3.5.0 in e:\\anaconda3\\envs\\openai\\lib\\site-packages (from openai) (4.3.0)\n",
      "Requirement already satisfied: distro<2,>=1.7.0 in e:\\anaconda3\\envs\\openai\\lib\\site-packages (from openai) (1.9.0)\n",
      "Requirement already satisfied: httpx<1,>=0.23.0 in e:\\anaconda3\\envs\\openai\\lib\\site-packages (from openai) (0.27.0)\n",
      "Requirement already satisfied: pydantic<3,>=1.9.0 in e:\\anaconda3\\envs\\openai\\lib\\site-packages (from openai) (2.6.4)\n",
      "Requirement already satisfied: sniffio in e:\\anaconda3\\envs\\openai\\lib\\site-packages (from openai) (1.3.1)\n",
      "Requirement already satisfied: tqdm>4 in e:\\anaconda3\\envs\\openai\\lib\\site-packages (from openai) (4.66.2)\n",
      "Requirement already satisfied: typing-extensions<5,>=4.7 in e:\\anaconda3\\envs\\openai\\lib\\site-packages (from openai) (4.9.0)\n",
      "Requirement already satisfied: idna>=2.8 in e:\\anaconda3\\envs\\openai\\lib\\site-packages (from anyio<5,>=3.5.0->openai) (3.6)\n",
      "Requirement already satisfied: exceptiongroup>=1.0.2 in e:\\anaconda3\\envs\\openai\\lib\\site-packages (from anyio<5,>=3.5.0->openai) (1.2.0)\n",
      "Requirement already satisfied: certifi in e:\\anaconda3\\envs\\openai\\lib\\site-packages (from httpx<1,>=0.23.0->openai) (2024.2.2)\n",
      "Requirement already satisfied: httpcore==1.* in e:\\anaconda3\\envs\\openai\\lib\\site-packages (from httpx<1,>=0.23.0->openai) (1.0.5)\n",
      "Requirement already satisfied: h11<0.15,>=0.13 in e:\\anaconda3\\envs\\openai\\lib\\site-packages (from httpcore==1.*->httpx<1,>=0.23.0->openai) (0.14.0)\n",
      "Requirement already satisfied: annotated-types>=0.4.0 in e:\\anaconda3\\envs\\openai\\lib\\site-packages (from pydantic<3,>=1.9.0->openai) (0.6.0)\n",
      "Requirement already satisfied: pydantic-core==2.16.3 in e:\\anaconda3\\envs\\openai\\lib\\site-packages (from pydantic<3,>=1.9.0->openai) (2.16.3)\n",
      "Requirement already satisfied: colorama in e:\\anaconda3\\envs\\openai\\lib\\site-packages (from tqdm>4->openai) (0.4.6)\n",
      "Note: you may need to restart the kernel to use updated packages.\n"
     ]
    },
    {
     "name": "stderr",
     "output_type": "stream",
     "text": [
      "WARNING: Ignoring invalid distribution -pype1 (c:\\users\\jyseo\\appdata\\roaming\\python\\python38\\site-packages)\n",
      "WARNING: Ignoring invalid distribution -pype1 (c:\\users\\jyseo\\appdata\\roaming\\python\\python38\\site-packages)\n",
      "WARNING: Ignoring invalid distribution -pype1 (c:\\users\\jyseo\\appdata\\roaming\\python\\python38\\site-packages)\n",
      "WARNING: Ignoring invalid distribution -pype1 (c:\\users\\jyseo\\appdata\\roaming\\python\\python38\\site-packages)\n",
      "WARNING: Ignoring invalid distribution -pype1 (c:\\users\\jyseo\\appdata\\roaming\\python\\python38\\site-packages)\n",
      "WARNING: Ignoring invalid distribution -pype1 (c:\\users\\jyseo\\appdata\\roaming\\python\\python38\\site-packages)\n"
     ]
    }
   ],
   "source": [
    "pip install openai"
   ]
  },
  {
   "cell_type": "code",
   "execution_count": 3,
   "id": "978b96e9",
   "metadata": {},
   "outputs": [
    {
     "name": "stdout",
     "output_type": "stream",
     "text": [
      "Requirement already satisfied: pypdf in e:\\anaconda3\\envs\\openai\\lib\\site-packages (4.1.0)\n",
      "Requirement already satisfied: typing_extensions>=3.7.4.3 in e:\\anaconda3\\envs\\openai\\lib\\site-packages (from pypdf) (4.9.0)\n"
     ]
    },
    {
     "name": "stderr",
     "output_type": "stream",
     "text": [
      "WARNING: Ignoring invalid distribution -pype1 (c:\\users\\jyseo\\appdata\\roaming\\python\\python38\\site-packages)\n",
      "WARNING: Ignoring invalid distribution -pype1 (c:\\users\\jyseo\\appdata\\roaming\\python\\python38\\site-packages)\n",
      "WARNING: Ignoring invalid distribution -pype1 (c:\\users\\jyseo\\appdata\\roaming\\python\\python38\\site-packages)\n",
      "WARNING: Ignoring invalid distribution -pype1 (c:\\users\\jyseo\\appdata\\roaming\\python\\python38\\site-packages)\n",
      "WARNING: Ignoring invalid distribution -pype1 (c:\\users\\jyseo\\appdata\\roaming\\python\\python38\\site-packages)\n",
      "WARNING: Ignoring invalid distribution -pype1 (c:\\users\\jyseo\\appdata\\roaming\\python\\python38\\site-packages)\n"
     ]
    }
   ],
   "source": [
    "!pip install pypdf"
   ]
  },
  {
   "cell_type": "code",
   "execution_count": 4,
   "id": "0c26110e",
   "metadata": {},
   "outputs": [
    {
     "name": "stdout",
     "output_type": "stream",
     "text": [
      "Requirement already satisfied: tiktoken in e:\\anaconda3\\envs\\openai\\lib\\site-packages (0.6.0)\n",
      "Requirement already satisfied: regex>=2022.1.18 in e:\\anaconda3\\envs\\openai\\lib\\site-packages (from tiktoken) (2023.12.25)\n",
      "Requirement already satisfied: requests>=2.26.0 in e:\\anaconda3\\envs\\openai\\lib\\site-packages (from tiktoken) (2.31.0)\n",
      "Requirement already satisfied: charset-normalizer<4,>=2 in e:\\anaconda3\\envs\\openai\\lib\\site-packages (from requests>=2.26.0->tiktoken) (3.3.2)\n",
      "Requirement already satisfied: idna<4,>=2.5 in e:\\anaconda3\\envs\\openai\\lib\\site-packages (from requests>=2.26.0->tiktoken) (3.6)\n",
      "Requirement already satisfied: urllib3<3,>=1.21.1 in e:\\anaconda3\\envs\\openai\\lib\\site-packages (from requests>=2.26.0->tiktoken) (2.2.1)\n",
      "Requirement already satisfied: certifi>=2017.4.17 in e:\\anaconda3\\envs\\openai\\lib\\site-packages (from requests>=2.26.0->tiktoken) (2024.2.2)\n"
     ]
    },
    {
     "name": "stderr",
     "output_type": "stream",
     "text": [
      "WARNING: Ignoring invalid distribution -pype1 (c:\\users\\jyseo\\appdata\\roaming\\python\\python38\\site-packages)\n",
      "WARNING: Ignoring invalid distribution -pype1 (c:\\users\\jyseo\\appdata\\roaming\\python\\python38\\site-packages)\n",
      "WARNING: Ignoring invalid distribution -pype1 (c:\\users\\jyseo\\appdata\\roaming\\python\\python38\\site-packages)\n",
      "WARNING: Ignoring invalid distribution -pype1 (c:\\users\\jyseo\\appdata\\roaming\\python\\python38\\site-packages)\n",
      "WARNING: Ignoring invalid distribution -pype1 (c:\\users\\jyseo\\appdata\\roaming\\python\\python38\\site-packages)\n",
      "WARNING: Ignoring invalid distribution -pype1 (c:\\users\\jyseo\\appdata\\roaming\\python\\python38\\site-packages)\n"
     ]
    }
   ],
   "source": [
    "!pip install tiktoken"
   ]
  },
  {
   "cell_type": "code",
   "execution_count": 5,
   "id": "0b2be409",
   "metadata": {},
   "outputs": [
    {
     "name": "stdout",
     "output_type": "stream",
     "text": [
      "Requirement already satisfied: faiss-cpu in e:\\anaconda3\\envs\\openai\\lib\\site-packages (1.8.0)\n",
      "Requirement already satisfied: numpy in e:\\anaconda3\\envs\\openai\\lib\\site-packages (from faiss-cpu) (1.24.4)\n"
     ]
    },
    {
     "name": "stderr",
     "output_type": "stream",
     "text": [
      "WARNING: Ignoring invalid distribution -pype1 (c:\\users\\jyseo\\appdata\\roaming\\python\\python38\\site-packages)\n",
      "WARNING: Ignoring invalid distribution -pype1 (c:\\users\\jyseo\\appdata\\roaming\\python\\python38\\site-packages)\n",
      "WARNING: Ignoring invalid distribution -pype1 (c:\\users\\jyseo\\appdata\\roaming\\python\\python38\\site-packages)\n",
      "WARNING: Ignoring invalid distribution -pype1 (c:\\users\\jyseo\\appdata\\roaming\\python\\python38\\site-packages)\n",
      "WARNING: Ignoring invalid distribution -pype1 (c:\\users\\jyseo\\appdata\\roaming\\python\\python38\\site-packages)\n",
      "WARNING: Ignoring invalid distribution -pype1 (c:\\users\\jyseo\\appdata\\roaming\\python\\python38\\site-packages)\n"
     ]
    }
   ],
   "source": [
    "!pip install faiss-cpu"
   ]
  },
  {
   "cell_type": "code",
   "execution_count": 6,
   "id": "cc926628",
   "metadata": {},
   "outputs": [
    {
     "name": "stdout",
     "output_type": "stream",
     "text": [
      "Requirement already satisfied: sentence-transformers in e:\\anaconda3\\envs\\openai\\lib\\site-packages (2.6.1)\n",
      "Requirement already satisfied: transformers<5.0.0,>=4.32.0 in e:\\anaconda3\\envs\\openai\\lib\\site-packages (from sentence-transformers) (4.39.2)\n",
      "Requirement already satisfied: tqdm in e:\\anaconda3\\envs\\openai\\lib\\site-packages (from sentence-transformers) (4.66.2)\n",
      "Requirement already satisfied: torch>=1.11.0 in e:\\anaconda3\\envs\\openai\\lib\\site-packages (from sentence-transformers) (2.2.2)\n",
      "Requirement already satisfied: numpy in e:\\anaconda3\\envs\\openai\\lib\\site-packages (from sentence-transformers) (1.24.4)\n",
      "Requirement already satisfied: scikit-learn in e:\\anaconda3\\envs\\openai\\lib\\site-packages (from sentence-transformers) (1.3.2)\n",
      "Requirement already satisfied: scipy in e:\\anaconda3\\envs\\openai\\lib\\site-packages (from sentence-transformers) (1.10.1)\n",
      "Requirement already satisfied: huggingface-hub>=0.15.1 in e:\\anaconda3\\envs\\openai\\lib\\site-packages (from sentence-transformers) (0.22.2)\n",
      "Requirement already satisfied: Pillow in e:\\anaconda3\\envs\\openai\\lib\\site-packages (from sentence-transformers) (10.2.0)\n",
      "Requirement already satisfied: filelock in e:\\anaconda3\\envs\\openai\\lib\\site-packages (from huggingface-hub>=0.15.1->sentence-transformers) (3.13.3)\n",
      "Requirement already satisfied: fsspec>=2023.5.0 in e:\\anaconda3\\envs\\openai\\lib\\site-packages (from huggingface-hub>=0.15.1->sentence-transformers) (2024.3.1)\n",
      "Requirement already satisfied: packaging>=20.9 in e:\\anaconda3\\envs\\openai\\lib\\site-packages (from huggingface-hub>=0.15.1->sentence-transformers) (23.2)\n",
      "Requirement already satisfied: pyyaml>=5.1 in e:\\anaconda3\\envs\\openai\\lib\\site-packages (from huggingface-hub>=0.15.1->sentence-transformers) (6.0.1)\n",
      "Requirement already satisfied: requests in e:\\anaconda3\\envs\\openai\\lib\\site-packages (from huggingface-hub>=0.15.1->sentence-transformers) (2.31.0)\n",
      "Requirement already satisfied: typing-extensions>=3.7.4.3 in e:\\anaconda3\\envs\\openai\\lib\\site-packages (from huggingface-hub>=0.15.1->sentence-transformers) (4.9.0)\n",
      "Requirement already satisfied: sympy in e:\\anaconda3\\envs\\openai\\lib\\site-packages (from torch>=1.11.0->sentence-transformers) (1.12)\n",
      "Requirement already satisfied: networkx in e:\\anaconda3\\envs\\openai\\lib\\site-packages (from torch>=1.11.0->sentence-transformers) (3.1)\n",
      "Requirement already satisfied: jinja2 in e:\\anaconda3\\envs\\openai\\lib\\site-packages (from torch>=1.11.0->sentence-transformers) (3.1.3)\n",
      "Requirement already satisfied: colorama in e:\\anaconda3\\envs\\openai\\lib\\site-packages (from tqdm->sentence-transformers) (0.4.6)\n",
      "Requirement already satisfied: regex!=2019.12.17 in e:\\anaconda3\\envs\\openai\\lib\\site-packages (from transformers<5.0.0,>=4.32.0->sentence-transformers) (2023.12.25)\n",
      "Requirement already satisfied: tokenizers<0.19,>=0.14 in e:\\anaconda3\\envs\\openai\\lib\\site-packages (from transformers<5.0.0,>=4.32.0->sentence-transformers) (0.15.2)\n",
      "Requirement already satisfied: safetensors>=0.4.1 in e:\\anaconda3\\envs\\openai\\lib\\site-packages (from transformers<5.0.0,>=4.32.0->sentence-transformers) (0.4.2)\n",
      "Requirement already satisfied: joblib>=1.1.1 in e:\\anaconda3\\envs\\openai\\lib\\site-packages (from scikit-learn->sentence-transformers) (1.3.2)\n",
      "Requirement already satisfied: threadpoolctl>=2.0.0 in e:\\anaconda3\\envs\\openai\\lib\\site-packages (from scikit-learn->sentence-transformers) (3.4.0)\n",
      "Requirement already satisfied: MarkupSafe>=2.0 in e:\\anaconda3\\envs\\openai\\lib\\site-packages (from jinja2->torch>=1.11.0->sentence-transformers) (2.1.5)\n",
      "Requirement already satisfied: charset-normalizer<4,>=2 in e:\\anaconda3\\envs\\openai\\lib\\site-packages (from requests->huggingface-hub>=0.15.1->sentence-transformers) (3.3.2)\n",
      "Requirement already satisfied: idna<4,>=2.5 in e:\\anaconda3\\envs\\openai\\lib\\site-packages (from requests->huggingface-hub>=0.15.1->sentence-transformers) (3.6)\n",
      "Requirement already satisfied: urllib3<3,>=1.21.1 in e:\\anaconda3\\envs\\openai\\lib\\site-packages (from requests->huggingface-hub>=0.15.1->sentence-transformers) (2.2.1)\n",
      "Requirement already satisfied: certifi>=2017.4.17 in e:\\anaconda3\\envs\\openai\\lib\\site-packages (from requests->huggingface-hub>=0.15.1->sentence-transformers) (2024.2.2)\n",
      "Requirement already satisfied: mpmath>=0.19 in e:\\anaconda3\\envs\\openai\\lib\\site-packages (from sympy->torch>=1.11.0->sentence-transformers) (1.3.0)\n"
     ]
    },
    {
     "name": "stderr",
     "output_type": "stream",
     "text": [
      "WARNING: Ignoring invalid distribution -pype1 (c:\\users\\jyseo\\appdata\\roaming\\python\\python38\\site-packages)\n",
      "WARNING: Ignoring invalid distribution -pype1 (c:\\users\\jyseo\\appdata\\roaming\\python\\python38\\site-packages)\n",
      "WARNING: Ignoring invalid distribution -pype1 (c:\\users\\jyseo\\appdata\\roaming\\python\\python38\\site-packages)\n",
      "WARNING: Ignoring invalid distribution -pype1 (c:\\users\\jyseo\\appdata\\roaming\\python\\python38\\site-packages)\n",
      "WARNING: Ignoring invalid distribution -pype1 (c:\\users\\jyseo\\appdata\\roaming\\python\\python38\\site-packages)\n",
      "WARNING: Ignoring invalid distribution -pype1 (c:\\users\\jyseo\\appdata\\roaming\\python\\python38\\site-packages)\n"
     ]
    }
   ],
   "source": [
    "!pip install sentence-transformers"
   ]
  },
  {
   "cell_type": "code",
   "execution_count": 7,
   "id": "e1aa131f",
   "metadata": {},
   "outputs": [
    {
     "data": {
      "text/plain": [
       "'Chapter 1    The Fence \\n \\nTom Sawyer lived with his aunt because his mother and \\nfather were dead. Tom didn’t like going to school, and he didn’t like working. He liked playing and having adventures. One Friday, he didn’t go to school—he went to the river. \\nAunt Polly was angry. “You’re a bad boy!” she said. \\n“Tomorrow you can’t play with your friends because you didn’t go to school today. Tomorrow you’re going to work for me. You can paint the fence.” \\nSaturday morning, Tom was not happy, but he started to \\npaint the fence. His friend Jim was in the street. \\nTom asked him, “Do you want to paint?” \\nJim said, “No, I can’t. I’m going to get water.” \\nThen Ben came to Tom’s house. He watched Tom and \\nsaid, “I’m going to swim today. You can’t swim because you’re working.” \\nTom said, “This isn’t work. I like painting.” \\n“Can I paint, too?” Ben asked. \\n“No, you can’t,” Tom answered. “Aunt Polly asked me \\nbecause I’m a very good painter.” \\nBen said, “I’m a good painter, too. Please, can I paint? I \\nhave some fruit. Do you want it?” \\nOK,” Tom said. “Give me the fruit. Then you can paint.” \\nBen started to paint the fence. Later, many boys came to \\nTom’s house. They watched Ben, and they wanted to paint, too. \\nTom said, “Give me some food and you can paint.” \\n \\n1 '"
      ]
     },
     "execution_count": 7,
     "metadata": {},
     "output_type": "execute_result"
    }
   ],
   "source": [
    "from langchain.document_loaders import PyPDFLoader\n",
    "\n",
    "loader = PyPDFLoader(\"e:/data/The_Adventures_of_Tom_Sawyer.pdf\")\n",
    "document = loader.load()\n",
    "document[5].page_content[:5000]"
   ]
  },
  {
   "cell_type": "code",
   "execution_count": 8,
   "id": "3075e30d",
   "metadata": {},
   "outputs": [
    {
     "name": "stderr",
     "output_type": "stream",
     "text": [
      "e:\\anaconda3\\envs\\openai\\lib\\site-packages\\langchain_core\\_api\\deprecation.py:117: LangChainDeprecationWarning: The class `langchain_community.embeddings.openai.OpenAIEmbeddings` was deprecated in langchain-community 0.0.9 and will be removed in 0.2.0. An updated version of the class exists in the langchain-openai package and should be used instead. To use it run `pip install -U langchain-openai` and import as `from langchain_openai import OpenAIEmbeddings`.\n",
      "  warn_deprecated(\n"
     ]
    }
   ],
   "source": [
    "import os\n",
    "os.environ[\"OPENAI_API_KEY\"] = \"sk-\" #openai 키 입력\n",
    "\n",
    "from langchain.vectorstores import FAISS\n",
    "from langchain.embeddings import OpenAIEmbeddings\n",
    "\n",
    "embeddings = OpenAIEmbeddings() #임베딩 처리\n",
    "db = FAISS.from_documents(document, embeddings)"
   ]
  },
  {
   "cell_type": "code",
   "execution_count": 9,
   "id": "48495c19",
   "metadata": {},
   "outputs": [
    {
     "name": "stdout",
     "output_type": "stream",
     "text": [
      "[-0.0028776592017171984, -0.020231964329207947, -0.01272228283555617, -0.016508676325958257, -0.02256690740071773, 0.028675621747612016, -0.02799407242808223, 0.0064621121529993475, -0.011946072025668743, 0.009863555559381466, -0.01553683561879839, 0.014438782074688563, 0.006645121232238082, -0.033320267185886765, 0.0005442940817075982, 0.02799407242808223, 0.022276616013087648, -0.0050264378730644965, 0.02414457158788258, -0.027034851141972186, -0.00031099704614278206, 0.00390629615116584, 0.014186355469466056, -0.02098924321355288, -0.005133718784471963, 0.018326146765973203, 0.024308648275917527, -0.02047176871941287, -0.004149256327955807, -0.018666921425738094, 0.001318138342694553, -0.0012077018775326913, -0.03546588913932643, -0.005032748514911995, 0.0013205048333873649, -0.017707702002273226, 0.01108782287176384, 0.00725725488842927, 0.009592197959939052, 0.003144284518265929, -0.0007056102713878977, 0.003191614332122164, 0.005515513547568179, -0.007673758181686725, 0.015549456902493385, 0.004796098979969526, -0.01226160504936623, -0.02096400064616289, -0.019121289501403124, 0.014678586464893487, 0.009535402183311571, 0.012564516789368721, -0.011516947448716291, -0.011441219746546315, -0.0192096384872681, 0.0043038675188808015, -0.002129846512974158, -0.013012573291863666, 0.0032089688300334304, -0.02706009370936218, 0.001446718019583295, 0.011081512229916343, -0.014830042800556026, -6.353795552667806e-06, -0.016256250652058334, -0.014135870334686072, -0.011359181402528841, 0.001348114007885492, -0.008487832842659141, -0.002292346006208525, 0.029483385766736935, 0.029155232390667037, -0.01389606501315856, -0.007143662869513012, 0.017985370243563135, -0.016155280382498367, -0.0067587127854930465, -0.0012282114635370598, -0.012703350910013678, 0.00407668394670958, 0.017581489165323264, -0.023362050136147654, -0.00289343603916659, -0.009705789513194016, 0.0037769277604614844, -0.0013654682729661116, -0.04417459351532542, 0.02966008560111205, 0.0027482908110128424, -0.0037737724395377355, 0.006828130311476818, 0.021178562468977823, 0.0029691637413365663, 0.04336683135884567, -0.003145862178727804, 0.004190275965625837, -0.0027025386576184822, 0.011718888919158815, -0.021531960275082883, -0.013504804287291098, -0.012880049813066207, -0.015738776157918327, -0.014438782074688563, -0.0033604244672040292, -0.012917913664151195, -0.007673758181686725, 0.000572297671321194, -0.024674665503072412, 0.02443486111286749, -0.02695912343980221, -0.0022813021501447567, 0.02610087428589731, 0.014123249050991075, -0.0335222077250067, 0.010532485457861429, -0.013795094743598593, 0.023967873616152637, -0.013012573291863666, 0.01334072759925615, -0.0006314600550568111, 0.012312090184146213, 0.012520342296436235, 0.01849022345400815, -0.0012518764868805006, 0.008879093568526604, 0.008115504042334172, -0.0054050773152369645, -0.021140698617892834, 0.0012637089403445595, -0.013100922277728638, 0.05391824687960442, 0.014085385199906087, 0.0344561827184364, 0.0005304895526661963, -0.016268871935753333, -0.01726595521030319, 0.01578926129269831, 0.0023254768759078896, 0.01334072759925615, -0.02087565166029792, -0.003000717183404703, 0.003537122904595267, -0.008254338162979128, -0.024573695233512445, 0.028044557562862216, 0.022996031046347596, 0.05341339553180458, 0.0025826359968547266, 0.005307261900939451, 0.014968876921200983, 0.007465506535057997, -0.0007628005795461717, 0.045537695879675336, -0.009844623633838973, 0.019247502338353085, 0.0007718721272019501, -0.02198632648810274, 0.020698953688567973, 0.011744131486548806, -0.0024974423319135035, 0.0065757037062543116, 0.014994119488590973, 0.028448438641102088, -0.012974709440778678, 0.012368885960773696, 0.03349696515761671, 0.0035308122627477688, 0.018124204364208092, -0.0012944734357664355, -0.0011840368541892504, -0.0059004636315881445, 0.0177834297044432, -0.0033667351090515274, 0.031704739147636926, -0.03503676549369657, 0.008620356321456598, 0.011744131486548806, -0.0021282688525122834, -0.011289764342206363, 0.019335851324218056, -0.015738776157918327, 0.004562604300289513, 0.013441697868816117, 0.012917913664151195, -0.014956255637505985, -0.007030071316258048, -0.0006665630585411805, -0.018275661631193218, -0.002158244401287899, 0.01353004685468109, 0.011119376081001331, 0.013176649979898614, -0.012065975152093792, -0.0037295979466052493, -0.6260171017832955, 0.003562365471985259, 0.021229047603757805, -0.006458956832075598, 0.019828081388322902, 0.0010941100914470805, -0.00531357254278695, 0.011201415356341391, -0.011876654965346265, 0.027615432054587177, 0.002320743894522266, -0.002035186652431041, 0.004581536691493301, -0.0007793660726035156, -0.012406750743181271, -0.027287278678517282, 0.0023696513688403753, -0.008973753196239075, -0.005657503454798178, -0.01761935301640825, -0.0028918583787047158, -0.004938088421538232, -0.014400917292280989, 0.002478510173540363, 0.017897021257698164, 0.018919347099638016, 0.011939761383821244, 0.0067208489344080585, -0.0027766886993265834, 0.058663860724793966, -0.044527989458785305, 0.036753263801506376, -0.003581297397527753, -0.0015413777637110885, 0.0321086202258768, -0.014060142632516096, -0.024346512127002517, 0.017758187137053207, -0.006992206999511767, 0.04626973405927545, -0.0172280913592182, -0.018957210950723002, 0.020913515511382905, -0.0011106755262967627, -0.008696084023626574, 0.001321293663618302, 0.004666730356434523, -0.005771095008053142, 0.01695042311792829, 0.007762107167551696, -0.036576565829776427, 0.005199980989531986, 0.024624180368292427, 0.0080271550564692, -0.031199884074546737, 0.019853323955712893, 0.015801882576393304, -0.008708705307321572, -0.00611502592006437, 0.01099316324405137, 0.03546588913932643, -0.003972558356225863, -0.00484658411474951, 6.764234509798114e-05, -0.041221205680115655, 0.027867857728487096, -0.016647512309248387, -0.0004011211037541788, -0.008853851001136613, -0.028095042697642198, 0.022869818209397635, -0.019070804366623142, -0.003959937072530867, 0.007919874145061734, 0.019600898281812974, 0.027287278678517282, 0.04505808709926549, 0.010576659950793914, -0.008670841456236584, 0.001773294433683257, -0.02102710706463787, -0.008879093568526604, -0.023021273613737587, 0.014047521348821099, -0.00845627963342165, -0.010810154630473929, -0.020711574972262968, -0.01923488105465809, 0.005155806030938206, -0.016218386800973348, 0.025091169727652456, 0.035491131706716424, -0.0011524836449517603, -0.017581489165323264, -0.016142659098803372, 0.034607638122776355, 0.003025959750794695, -0.003609695518672141, 0.0005139240596088524, -0.005553377398653167, 0.01695042311792829, -0.0029407658530228253, 0.008203853028199143, -0.003432997081280903, 0.011315006909596356, 0.026504757226782354, -0.046320219194055434, -0.0010893769936461337, 0.013290242464476165, -0.01961351956550797, 0.011706267635463818, -0.010791222704931434, 0.009712100155041514, 0.011176172788951399, -0.007181526720598, -0.011662093142531332, 0.004281780272414559, 0.02587369117938738, 0.009712100155041514, -0.009062102182104046, 0.018263040347498222, 0.003966247714378365, 0.03188143711936687, 0.012211119914586246, 0.015284409944898469, 0.011315006909596356, -0.0428114911509755, -0.0301396943815219, -0.021052349632027862, -0.013883443729463565, -0.029483385766736935, -0.010620834443726402, 0.014691207748588482, -0.012892671096761205, 0.006910168655494292, 0.012823254036438726, 0.021948462637017753, -0.003584452718451502, 0.022705741521362687, -0.009295596861784059, -0.004947554384309478, 0.007585408730160459, -0.008980063838086572, -0.0008203853028199144, -0.003912606793013338, -0.011662093142531332, -0.023955252332457638, -0.004313333481652049, -0.013315485031866157, 0.002693072694847235, -0.004385906328559569, -0.024447482396562484, -0.0028808145226409472, -0.0022907683457466504, 0.02541932310372235, 0.014981498204895978, -0.010778601421236439, -0.006247549864523121, 0.012122770928721273, -0.007673758181686725, 0.026176601988067285, 0.0010688674076417652, -0.028524166343272064, -0.015713533590528333, 0.006695606367018067, -0.033345509753276756, 0.00047882105612448303, 0.018830998113773045, -0.007181526720598, -0.021140698617892834, -0.014754314167063463, -0.007522302311685479, -0.009245111727004075, 0.014918391786420997, 0.014968876921200983, -0.01534751636337345, 0.008752880731576644, -0.018969832234417998, -0.019777596253542917, 0.002599990494765993, 0.01890672581594302, 0.009623751169176542, -0.0017654061313738844, -0.012356264677078701, 0.011163551505256403, 0.014249461887941036, 0.009623751169176542, 0.03455715298799637, -0.007036381958105546, 0.006411627018219363, -0.020976621929857886, 0.02327370115028268, -0.003204235848647807, 0.013542668138376086, 0.0032468326811184185, -0.03566782967844637, 0.019058181220282973, 0.036601808397166424, 0.03026590721847186, 0.031502794883226645, -0.00925773301069907, -0.004041975416548341, 0.003115886629952188, -0.0070237606744105495, 0.014577616195333518, -0.010134914090146468, -0.009194626592224092, -0.016029067545548406, 0.007446574609515503, -0.00565119281295068, -0.007913563503214236, -0.02918047495805703, 0.009876176843076463, -0.01932323004052306, 0.01578926129269831, 0.02164555182833785, -0.027110578844142162, 0.010765980137541441, -0.01519606002771091, 0.011359181402528841, 0.030619305024576923, 0.009529090610141486, -0.006645121232238082, -0.01986594523940789, 0.0037201319838340023, 0.033345509753276756, -0.0023870058667516416, 0.03263871414106663, 0.003814791844377119, 0.0076800688235342226, -0.0221125393250527, -0.023803795065472512, -0.007534923595380475, 0.02506592716026246, 0.004452168067958298, -0.0229834097626526, 0.01961351956550797, -0.022339724294207802, -0.0045878473333407985, 0.019891189669443057, 0.012021800659161306, 0.01790964254139316, -0.020648466691142817, -0.03374939083151663, 0.02963484303372206, 0.04023674555190597, 0.009383945847649032, 0.009895108768618956, -0.04089305230404576, 0.011453841030241312, -0.02356399067526759, -0.01761935301640825, 0.019007696085502988, -0.0017243868429498242, -0.00501697191029325, -0.03486006379667628, -0.0037674617976902374, -0.0013323372868514238, 0.019474685444863013, 0.011870344323498767, 0.0010057608727514617, 0.011245589849273877, 0.0037958596860039784, 0.010986852602203872, 0.02991251127501197, 0.007585408730160459, -0.005168427314633202, -0.02173390081420282, -0.0036885785417658658, -0.015801882576393304, -0.03579404251539633, -0.02281933307461765, 0.019398957742693037, -0.019802838820932908, 0.027716402324147144, 0.022263994729392653, 0.007225701679191779, -0.0012424105241092536, 0.019563034430727985, 0.017821293555528188, -0.012438303952418761, -0.039555192507085835, -0.0007955370923377293, 0.029735813303282028, 0.015271788661203474, -0.002997561862480954, -0.03046784962023697, 0.010784912063083936, -0.013176649979898614, 0.05659396647352427, -0.003628627444214635, 0.0067208489344080585, -0.003600229323070247, -0.013731988325123613, -0.02892804928415711, -0.018578572439873122, 0.02004264507378301, -0.018174689498988077, 0.026984366007192204, -0.018692163993128088, -0.010204331150468945, -0.0017843380569163784, -0.006219151976209381, -0.014009657497736111, 0.010513553532318936, 0.015801882576393304, 0.0019894344990366805, -0.017581489165323264, 0.02198632648810274, -0.00925773301069907, -0.031300854344106704, -0.0027829993411740816, -0.023349428852452656, -0.03733384285147619, -0.021683415679422835, -0.004082994588557078, -0.02198632648810274, -0.022339724294207802, 0.015978582410768424, 0.014804799301843447, -0.007269876172124265, -0.01790964254139316, -0.018313525482278208, 0.010040254462433998, 0.051267773578364914, -0.017038772103793263, -0.006458956832075598, -0.011876654965346265, 0.005474494375559442, 0.00839948385679417, -0.006550461138864319, -0.02945814319934694, -0.010475689681233948, -0.007099488376580526, -0.004657264393663277, -0.0114917048813263, 0.001721231522026075, -0.0020462302756641625, 0.02708533627675217, 0.009276664936241566, -0.0037611511558427397, -0.035516374274106415, 0.005228378877845726, 0.0005099799084541661, 0.00025932852049723794, -0.010551417383403924, 0.021897977502237768, 0.02175914338159281, -0.006440024906533104, 0.008008223130926705, 6.6557705349431855e-06, 0.014211598036856048, 0.02423292057374755, -0.03276492697801659, -0.007484438460600491, -0.005477649696483191, -0.00725725488842927, -0.020623224123752823, -0.004906535212300741, 0.023450399122012626, -0.020585360272667837, 0.019727111118762932, 0.015498971767713402, 0.0018032700988741958, 0.029357172929786974, 0.04162509048364588, 0.009522779968293987, -0.010248505643401433, 0.011605297365903851, 0.0016833675545257637, 0.004950709705233227, 0.01938633645899804, -0.003584452718451502, 0.011068890946221346, 0.02658048492895233, -0.009958216118416524, -0.03001348154457194, -0.010873261048948908, 0.01488052793533601, -0.002511641276070374, -0.009320839429174051, -0.007957737996146722, 0.0048434287938257615, -0.0031190419508759374, -0.0006346153759805601, -0.027943585430657072, -0.023134867029637726, -0.006632499948543087, -0.006954343148426779, -0.01488052793533601, -0.023993116183542627, -0.010822775914168924, -0.02548242952219733, -0.007370846441684234, -0.03362317799456667, -0.01932323004052306, -0.021380503008097757, -0.03175522428241691, -0.014552373627943527, 0.019512549295948003, 0.029836783572841995, 0.0036633359743758736, -0.004300712197957053, -0.005458717770940697, -0.011498015523173798, -0.018263040347498222, 0.003609695518672141, -0.023993116183542627, -0.028675621747612016, 0.0014672276055876636, 0.0022371276572122705, 0.009566955392549061, -0.014047521348821099, 0.0019152842244979321, 0.024699908070462403, -0.0007781828272571098, 0.019348472607913052, -0.003216857132342803, -0.0013741454055064212, -0.02625232969023726, -0.0007261199155999279, 0.005162116672785704, -0.014464024642078554, -0.004291246235185805, 0.02708533627675217, -0.029533870901516917, -0.00044174594795893976, 0.001342592079853608, -0.002368073708378501, -0.0039031408302420915, 0.016660133592943382, 0.006417937660066861, -0.001699144275559832, 0.010469379039386448, 0.026984366007192204, -0.02416981415527257, 0.013492183003596102, -0.023967873616152637, 0.013088300994033642, 0.010374719411673979, -0.006632499948543087, 0.009194626592224092, -0.0003553688339444949, -0.01500674077228597, -0.00855724990298162, -0.0046257111844257865, 0.03367366312934665, 0.025116412295042446, -0.005105320896158222, 0.01127083241666387, -0.007604340655702953, -0.0068028877440868265, 0.002705693978542231, 0.005726920515120656, -0.00010343560413825142, 0.006695606367018067, -0.007200458646140494, -0.012053353868398795, 0.0023933165085991397, -0.01077229077938894, -0.02905426212110707, 0.02791834286326708, -0.01553683561879839, -0.020118372775952985, -0.007370846441684234, -0.03266395670845662, -0.00882860843374662, -0.015435865349238421, -0.028019314995472222, -0.027312521245907273, -0.01250772101274124, 0.02414457158788258, -0.003163216443808423, 0.006828130311476818, -0.020459147435717875, -0.010235884359706435, -0.01429994702272102, -0.018578572439873122, 0.008658220172541586, -0.03743481312103616, -0.004745613379528249, 0.020623224123752823, 0.03650083440231611, 0.010961610034813881, 0.0023822726525353716, -0.005575464645119411, 0.016546540177043243, 0.008916957419611592, 0.0016944111777588851, 0.008519386051896631, -0.0129052923804562, 0.021998947771797738, -0.028650379180222025, 0.01948730672855801, -0.005666969417569424, -0.0021282688525122834, 0.027236793543737297, 0.023046516181127578, -0.011315006909596356, 0.020231964329207947, 0.007566476804617965, -0.012381508175791279, -0.029988238977181947, -0.009295596861784059, 0.00821647431189414, -0.006228617938980627, 0.010248505643401433, -0.020345555882462913, -0.006935411222884285, -0.024813501486362542, 0.019802838820932908, -0.013820337310988584, 0.019828081388322902, 0.00960481924363405, 0.01936109389160805, -0.038116362440565946, 0.0036349380860621326, 0.008468900917116646, -0.003805325881605872, -0.01649605504226326, 0.016975665685318282, 0.02791834286326708, 0.010822775914168924, 0.007692690107229219, 0.008550939261134122, 0.030796002996306866, -0.004994884663827007, 0.02244069456376777, -0.008285891372216619, 0.021620309260947858, -0.011933450741973746, -0.033295024618496774, 0.017303819061388177, -0.00886016164298411, -0.03703093204279628, -0.029584356036296902, -0.005127408142624465, -0.0313260969114967, 0.024220299290052556, 0.002238705317674145, -0.02449796753134247, 0.018086340513123106, 0.009724721438736511, -0.006746091501798051, 0.002514796596994123, 0.04187751615754579, 0.0366775360993364, -0.004783477696274531, 0.03586977021756631, 0.042230912101005685, -0.004701438886595763, -0.03160376515278661, 0.010488310964928943, -0.004609934579807041, -0.00981938106644898, 0.00130472822876862, 0.021721279530507825, -0.008500454126354137, -0.017190227508133215, 0.026757182900682276, -0.0015571544847451568, -0.0217970072326778, -0.02102710706463787, 0.024624180368292427, -0.006493665362236837, 0.011352870760681344, 0.009592197959939052, -0.00898637447993407, -0.0037453745512239945, 0.019474685444863013, -0.005114786858929469, 0.005382990068770721, -0.04351828676318562, -0.025570780370707476, -0.01849022345400815, -0.03135133947888669, -0.007970359279841717, 0.02695912343980221, -0.004493187239967035, 0.005408232636160713, -0.002652053290007851, 0.0004141368316684743, -0.013454319152511114, 0.0063169669248456, -0.022263994729392653, 0.02523000384829741, -0.017152363657048225, -0.011535879374258786, 0.004237605779482073, -0.011946072025668743, -0.006449490869304351, 0.001610006226633276, -0.020206721761817956, 0.03518822089803652, -0.009844623633838973, 0.0076422049724492345, -0.02857465147805205, 0.01643294862378828, 0.012406750743181271, 0.007591719372007957, 0.010425204546453962, 0.005553377398653167, -0.003229478416037799, -0.009876176843076463, 0.020547496421582847, 0.0070048287488680555, -0.01633197835422831, -0.006651431874085581, -0.019007696085502988, 0.005531290152186924, -0.03357269285978668, -0.009207247875919087, 0.017695080718578227, 0.04061538406275585, -0.016470812474873267, -0.0063579860968543365, -0.029508628334126926, -0.008702394665474074, 0.006651431874085581, -0.03594549791973628, -0.004073528625785831, 0.03268919927584662, -0.051949322897894695, 0.009440741624276513, -0.024737771921547393, 0.008203853028199143, 0.007882009362654159, -0.011214036640036387, 0.022895060776787626, -0.023021273613737587, 0.016723240011418363, -0.022074675473967714, -0.021506717707692892, -0.018389253184448184, -0.006086628031750629, 0.010829086556016422, -0.012760146686641159, -0.01790964254139316, 0.0053419704311006904, 0.012514031654588737, 0.016357220921618305, -0.0054240092407794585, -0.012760146686641159, 0.009377635205801534, 0.0001430744178302985, -0.0005245733259341669, 0.029710570735892037, -0.02658048492895233, -0.030089209246741917, 0.005802648682951926, 0.0067587127854930465, -0.009226179801461582, 0.0018253573453404389, -0.03617268102624621, -0.010702872787743876, -0.0080271550564692, -0.018237795917463058, -0.015637805888358357, 0.0011777262123417525, -0.015978582410768424, -0.025520293373282318, 0.006670363799628075, -0.010216952434163942, -0.015233924810118486, 0.0019862791781129316, 0.03990859217583607, -0.011946072025668743, 0.018212553350073064, -0.0005707200108593194, -0.02741349151546724, 0.011012095169593865, -0.04084256716926578, -0.02940765806456696, -0.015360137647068445, -0.018389253184448184, 0.06876091003253286, 0.0009962949099802147, -0.015208681311405906, -0.01790964254139316, 0.015448486632933417, -0.032386288467166714, 0.009131520173749111, 0.027615432054587177, 0.001711765559254828, -0.004354352653660786, 0.006796577102239328, 0.001972080001125414, 0.018692163993128088, -0.016672754876638378, 0.0361979235936362, -0.0034109098348146603, -0.01875527041160307, -0.006790265994730537, -0.022099918041357705, -0.030896973265866833, 0.012248983765671234, 0.010797533346778932, -0.016546540177043243, 0.00438275100763582, -0.007749485883856701, 0.007831524227874176, 0.027211550976347306, 0.0037548405139952415, -0.0065378398551693235, 0.005364057677566933, -0.009428120340581518, -0.008942199987001584, 0.012034421942856302, 0.014691207748588482, -0.0037800830813852337, -0.02327370115028268, 0.017669838151188236, -0.00047014389448034246, -0.0025542381085409856, -0.004395372291330816, 0.013782473459903596, -0.023765931214387526, 0.023740688646997535, 0.00021554835536872802, -0.012974709440778678, 0.008904336135916596, -0.0015090357242426612, 0.011031027095136358, -0.0031316632345709332, -0.0005415331758993179, 0.028069800130252207, -0.02213778189244269, -0.020231964329207947, -0.0039410046813270795, 0.011516947448716291, 0.00042399720955518995, 0.019992159939003024, 0.004748768700451998, -0.005146340068166959, 0.015675669739443347, 0.005304106580015702, 0.0238416589165575, -0.019411579026388032, -0.017707702002273226, 0.01878051297899306, 0.014451403358383559, -0.036248408728416184, 0.039050341159285996, -0.0057016779477306635, -0.012053353868398795, 0.001009705023906148, -0.020219343045512952, 9.313148014280274e-05, 0.0004997251154519819, -0.024422239829172493, 0.0008180188121271027, 0.013176649979898614, -0.013580531989461074, 0.04980370094445503, -0.014274704455331027, -0.01967662598398295, 0.0064431802274568534, 0.005711143910501911, 0.0006077950899210319, 0.02140574557548775, 0.25202235906581316, -0.0028555719552509555, -0.005575464645119411, 0.014564994911638523, 0.004893913928605745, 0.027564946919807192, 0.02779213002631712, -0.004654109072739528, -0.007919874145061734, -0.002197686145665408, -0.0060834727108268795, 0.012999952008168671, -0.0038589663373096053, 0.0027609120947078387, -0.003426686439433405, -0.034052301640196535, -0.010021322536891504, 0.014994119488590973, 0.01120772599818889, -0.028877564149377127, 0.003997800923615855, 0.00855724990298162, -0.014249461887941036, -0.0011753597216489406, -0.0008582492703202258, 0.006550461138864319, -0.005707988589578162, -0.0025936798529184947, -0.010576659950793914, -0.0032941624949746535, -0.022996031046347596, -0.0016849452149876381, 0.01628149321944833, 0.0033194052951952924, -0.00040822057583261406, -0.007806281660484183, 0.028675621747612016, 0.014691207748588482, 0.031780466849806906, 0.036450349267536125, 0.009346081996564044, -0.009137830815596609, -8.85587189839018e-06, 0.016407706056398286, -0.0068849260881043, 0.034582395555386364, -0.0038968301883945933, 0.00017452909604849846, -0.01923488105465809, 0.03324453575842644, -0.031225126641936732, -0.017152363657048225, 0.011258211132968873, 0.03733384285147619, 0.004953865026156977, -0.001284218526348928, 0.007200458646140494, -0.009011617047324063, -0.021935841353322758, 0.012084907077636285, 0.01599120369446342, 0.02300865233004259, -0.005966725370986873, 0.029937753842401965, -0.01586499085751346, -0.008298512655911614, -0.040489171225805885, 0.024258163141137542, 0.0030433140158753146, -0.004650953751815779, -0.0038652769791571034, 0.0192096384872681, 0.007762107167551696, -0.007591719372007957, -0.033017352651916514, -0.019840702672017898, 0.042205669533615695, 0.004385906328559569, 0.02589893374677737, 0.023791173781777517, -0.027211550976347306, -8.258085397614388e-05, 0.012160634779806261, 0.018086340513123106, -0.006847062237019312, -0.011403355895461327, -0.007497059744295487, -0.008203853028199143, -0.026605727496342324, -0.007049003241800542, 0.013580531989461074, 0.0004736936305195601, 0.005345125752024439, -0.013113543561423635, -0.0002922622699503607, 0.013164028696203619, 0.00043661852235401676, 0.013997036214041116, 0.004004111565463353, -0.00481503090551202, -0.002134579494359781, -0.009415499056886522, 0.009434430982429015, 0.015057225907065954, -0.001819046703492941, 0.03377463339890662, -0.0015626762963617175, -0.017543625314238274, -0.00224028297813602, -0.022869818209397635, -0.01634459963792331, -0.027716402324147144, -0.002765645076093462, 0.013820337310988584, 0.009895108768618956, -0.007982980563536714, 0.02083778780921293, -0.03203289252370682, -0.0011043648844492647, -0.0010933212612161433, -0.017240712642913197, -0.018275661631193218, -0.01219849863089125, 0.01973973240245793, 0.01596596112707343, -0.014842664084251021, -0.011763063412091301, 0.02254166483332774, 0.005420853919855709, -0.042735763448805524, 0.0057395417988156516, -0.026454272092002372, 0.027438734082857234, 0.006294879678379357, 0.005550222077729418, 0.030770760428916875, -0.0012053353868398797, -0.0054050773152369645, 0.011352870760681344, 0.014060142632516096, -0.004199741928397085, -0.01917177463618311, 0.01441353950729857, 0.005496581622025685, 0.0172280913592182, -0.044729933723195586, 0.012829564678286224, 0.003972558356225863, -0.013365970166646141, -0.01534751636337345, -0.0352639486002065, 0.011542190016106284, 0.0022529042618310157, 0.012949466873388686, 0.0266814551985123, -0.01849022345400815, -0.025507672089587322, -0.037788209064496044, 0.0064999760040843355, 0.009074723465799043, -0.03695520434062631, 0.00582158060849442, 0.024068843885712603, -0.025646508072877452, -0.019512549295948003, -0.010381030053521477, -0.15690815652406376, 0.004527895770128274, 0.039050341159285996, -0.025949418881557357, -0.005493426301101936, 0.03859597494626614, 0.01370674575773362, -0.023702824795912545, -0.013290242464476165, 0.024964956890702494, 0.028069800130252207, -0.013100922277728638, -0.03279016954540658, 0.0016013290940929664, 0.00295654245764157, 0.01006549702982399, -0.0007119209132353957, -0.01120772599818889, 0.01028636949448642, 0.0033509585044327822, 0.031225126641936732, -0.010999473885898869, -0.00997083740211152, -0.004868671361215753, -0.011750442128396304, 0.0180989617968181, -0.014224219320551044, 0.000706399101618835, -0.003584452718451502, -0.012059664510246294, -0.02083778780921293, 0.004098771193175823, 0.016294114503143324, -0.012772767970336156, 0.017404789330948148, -0.006070851427131884, -0.002268680866449761, 0.0003263792647498893, -0.017038772103793263, 0.03533967630237647, 0.0002392133205045072, 0.038696945215826103, 0.013378591450341138, -0.02491447175592251, 0.0017480517498779417, 0.0045594489793657645, -0.02127953273853779, 0.024308648275917527, 0.018111583080513097, -0.016268871935753333, 0.011378113328071336, -0.004950709705233227, 0.009813070424601483, -0.005654348133874429, 0.016104795247718382, 0.01346694043620611, 0.003909451472089589, 0.013656260622953637, -0.013227136046001186, -0.007547544879075471, -0.014426160790993566, -0.026731940333292282, 0.007938806070604227, 0.0025794806759309773, 0.006594636097458099, 0.006238083901751875, -0.02862513661283203, 0.02115331990158783, -0.04902117763007493, 0.0026031458156897417, 0.005468183733711944, 0.00896113191254408, 0.00622230729713313, -0.009327150071021549, -0.020938758078772896, 0.012596069998606211, -0.01688731669945331, 0.015637805888358357, -0.022844575642007644, 0.006017210971428151, 0.00458469201241705, 0.01395917143163354, -0.037258115149306215, -0.016155280382498367, 0.018641678858348103, -0.00858249247037161, 0.00705531388364804, -0.017518382746848284, 0.011352870760681344, 0.007143662869513012, 0.024674665503072412, -0.04331634622406569, -0.013201893478611193, -0.015612563320968366, 0.03256298643889666, 0.020749438823347958, 0.004281780272414559, 0.009762585289821499, 0.0004527896002958921, 0.0013386479286989217, -0.006023521613275649, -0.021052349632027862, -0.015246546093813481, 0.021620309260947858, 0.015448486632933417, 0.007572787446465463, 0.016660133592943382, 0.02427078442483254, 0.03897461345711602, 0.019499928012253004, 0.005641726850179433, 0.008178610460809152, 0.011800927263176289, 0.0347843360945063, 0.00398202431899711, 0.03677850636889637, -0.02799407242808223, -0.009844623633838973, 0.025999904016337342, -0.008809676508204125, 0.052151263437014636, 0.008639288246999093, -0.024813501486362542, 0.009036859614714055, -0.009977148043959017, -0.013264999897086174, -0.06825605868473301, -0.017695080718578227, 0.007945116712451726, 0.005010661268445752, -0.01794750639247815, 0.01346694043620611, 0.010538796099708926, 0.011611608007751349, -0.028726106882392, -0.0024974423319135035, 0.00042636372935183253, -0.015233924810118486, 0.006285413715608109, 0.01547372920032341, 0.012829564678286224, -0.008128125326029167, -0.013151407412508623, -0.02167079439572784, 0.01142859846285132, 0.011706267635463818, 0.027691159756757153, 0.008405794498641667, 0.014968876921200983, -0.0352387060328165, -0.00407668394670958, 0.005695367305883166, -0.010665008936658888, 0.02670669776590229, 0.013164028696203619, -0.008437347707879158, -0.005903618952511893, -0.018767891695298064, -0.007490749102447989, 0.0030512023181846868, -0.002543194485307864, -0.0249397143233125, -0.039933834743226065, -0.004165033398235846, 0.027640674621977168, -0.0036728019371471206, 0.005534445473110673, 0.02369020351221755, 0.027943585430657072, -0.014426160790993566, 0.0027009609971566074, 0.001234522105384558, -0.0013015729078448709, 0.010242195001553933, -0.005477649696483191, -0.022188267027222677, -0.023488262973097612, -0.023324186285062665, -0.05709881782132411, 0.001563465126592655, 0.04917263303441488, -0.00839948385679417, 0.017846536122918182, -0.0003549744188290263, -0.0057206098732731575, 0.02475039506788756, -0.013302863748171162, 0.024384375978087503, 0.006973275073969273, 0.0004405627026125339, 0.009800449140906487, 0.00398202431899711, -0.026858153170242243, 0.009535402183311571, 0.03268919927584662, -0.015221303526423488, 0.013757230892513605, 0.02130477530592778, -0.022327103010512807, 0.03877267291799608, -0.05381727661004446, 0.012002868733618811, -0.017240712642913197, -0.008740259447881649, 0.01628149321944833, -0.041195963112725664, -0.013176649979898614, -0.02986202614023199, 0.00714997351136051, -0.025469808238502336, 0.010128603448298969, -0.003537122904595267, 0.004300712197957053, -0.023197973448112703, 0.003852655695462107, -0.008664530814389086, -0.0009473872610391202, 0.008292202014064116, -3.364861593597305e-05, -0.04581536412096525, 0.0007497848807357071, 0.013113543561423635, -0.026832910602852252, -0.0017054549174073301, 0.006108715278216872, 0.022125160608747696, 0.0057616290452818944, -0.03771248136232607, -0.054473587087474594, 0.020913515511382905, -0.009800449140906487, -0.024182435438967566, 0.012766457328488657, -0.0016881005359113872, 0.018704785276823083, -0.022074675473967714, -0.007446574609515503, -0.0022560595827547645, 0.012987330724473674, 0.008651909530694089, 0.006370607380549333, 0.001330759626389549, -0.025633886789182457, -0.024763016351582557, 0.006922789939189288, 0.008550939261134122, 0.00925773301069907, 0.014186355469466056, 0.00023526915479790553, 0.0057837167574094316, 0.002909212643785335, 0.01846498088661816, -0.01788439997400317, 0.010999473885898869, -0.018679542709433093, 0.012368885960773696, -0.010153846015688962, -0.004770856412579534, 0.005903618952511893, -0.04271052088141553, -0.003515035658129024, 0.0318057094171969, 0.020951379362467895, -0.011516947448716291, 0.012652865775233692, 0.020332934598767914, 0.013908686296853557, 0.04980370094445503, -0.01765721686749324, -0.034733850959726316, 0.004199741928397085, -0.0065567717807118175, -0.013151407412508623, 0.0191970172035731, -0.0070616245254955376, 0.009270354294394068, 0.029129989823277046, -0.017354304196168163, 0.022188267027222677, 0.025659129356572448, -0.008727638164186651, 0.0008479944191103799, -0.005199980989531986, -0.04096878000621573, 0.0169125592668433, -0.000923722295903341, 0.02213778189244269, -0.0037832384023089825, 0.0052820193335494595, -0.01716498494074322, -0.0028508389738653318, 0.014098006483601084, -0.0019705023406635398, 0.01284218596198122, 0.005884687026969399, -0.011308696267748858, 0.019348472607913052, -0.033345509753276756, -0.04248333777490561, 0.0036980445045371128, -0.0030985323648715685, -0.023955252332457638, -0.008677152098084081, 0.010822775914168924, -0.009491226759056498, 0.00011724016228348415, -0.0021456231175929026, 0.030796002996306866, -0.021784385948982805, -0.006929100581036786, -0.001548477352204847, -0.014665965181198492, 0.009352392638411542, 0.0076232730469067405, -0.0172280913592182, 0.013883443729463565, 0.0177834297044432, -0.013416455301426126, -0.056896877282204175, 0.009383945847649032, 0.014552373627943527, -0.012659176417081192, 0.021468851993962732, 0.008065018907554188, -0.010399961979063971, -0.000402501556658319, 0.0023696513688403753, 0.010059186387976492, -0.002765645076093462, -0.0016881005359113872, 0.006206530692514384, -0.01633197835422831, -0.007433953325820507, 0.009497537400903996, 0.009428120340581518, -0.02366496094482756, -0.011340249476986348, 0.027842615161097106, 0.010923746183728893, -0.023513505540487607, -0.0192096384872681, 0.0052252235569219775, -0.012974709440778678, 0.0020935603223510442, 0.012034421942856302, -0.026479514659392363, -0.03402705907280654, 0.03157852258539662, 0.011788305979481292, 0.012097528361331282, 0.009548023467006566, -0.030114451814131908, 0.027867857728487096, 0.027564946919807192, 0.00561963960371319, -0.010469379039386448, -0.004931777779690733, 0.015524214335103393, -0.016104795247718382, 0.025696993207657438, -0.029735813303282028, -0.008935889345154087, -0.037384327986256176, 0.026858153170242243, 0.001133551602993943, 0.004417459537797059, -0.040463928658415894, 0.05311048472312468, 0.0013126165310779923, -0.0020304536710454174, 0.002349141782836007, 0.0020904050014272954, 0.013201893478611193, 0.025028063309177475, 0.02799407242808223, -0.039933834743226065, 0.005616484282789441, -0.0038179471653008684, -0.021935841353322758, -0.0033446478625852845, -0.041120235410555685, -0.017758187137053207, -0.00531357254278695, -0.024422239829172493, 0.0023791173316116223, -0.012526652938283733, 0.03001348154457194, 0.025179518713517427, 0.02779213002631712, -0.004691972923824516, 0.0016052732452476524, -0.025999904016337342, -0.0013962327683879876, 0.02063584540744782, -0.018616436290958112, 0.023349428852452656, -0.005338815110176942, -0.0006259382434402503, 0.00013074891636807311, -0.032411531034556705, -0.010166467299383957, -0.0027877323225597053, -0.000629487979479468, -0.007194148004292996, -0.0020272983501216685, 0.009857244917533968, 0.011075201588068845, -0.009118897958731529, 0.007459195893210499, 0.001127240961146445, 0.018578572439873122, 0.037157144879746244, 0.020244585612902943, -0.017354304196168163, 0.006323277566693097, 0.005502892263873183]\n"
     ]
    }
   ],
   "source": [
    "from langchain.embeddings import OpenAIEmbeddings\n",
    "embeddings = OpenAIEmbeddings()\n",
    "\n",
    "text = \"진희는 강아지를 키우고 있습니다. 진희가 키우고 있는 동물은?\"\n",
    "text_embedding = embeddings.embed_query(text)\n",
    "print(text_embedding)"
   ]
  },
  {
   "cell_type": "code",
   "execution_count": 10,
   "id": "3a9ff65a",
   "metadata": {},
   "outputs": [
    {
     "name": "stderr",
     "output_type": "stream",
     "text": [
      "e:\\anaconda3\\envs\\openai\\lib\\site-packages\\tqdm\\auto.py:21: TqdmWarning: IProgress not found. Please update jupyter and ipywidgets. See https://ipywidgets.readthedocs.io/en/stable/user_install.html\n",
      "  from .autonotebook import tqdm as notebook_tqdm\n"
     ]
    },
    {
     "name": "stdout",
     "output_type": "stream",
     "text": [
      "[0.013278806582093239, 0.07225918769836426, 0.0926310271024704, -0.003979587461799383, 0.0015618124743923545, -0.10306372493505478, 0.10929885506629944, 0.05566205829381943, -0.031167328357696533, -0.050203148275613785, 0.08312957733869553, -0.008924406953155994, 0.09506326168775558, -0.06980789452791214, 0.039559025317430496, -0.10899197310209274, 0.04943862184882164, 0.03736478462815285, -0.12409230321645737, -0.0033154122065752745, 0.048409536480903625, -0.031085098162293434, 0.008206961676478386, 0.06326045840978622, -0.06804250925779343, -0.010208160616457462, 0.004927064757794142, -0.014940355904400349, -0.0014765909872949123, -0.006598875392228365, -0.040159497410058975, 0.08289806544780731, 0.014144634827971458, -0.011793511919677258, -0.09415141493082047, 0.0021564101334661245, -0.019053073599934578, -0.03773900121450424, -0.0032710570376366377, 0.04685605317354202, -0.18111619353294373, -0.11718791723251343, 0.03504842892289162, -0.06848115473985672, 0.06553442776203156, 0.03522859141230583, -0.049748510122299194, -0.12612959742546082, -0.0784597098827362, 0.004257882013916969, -0.10124035179615021, -0.0251739751547575, 0.028697725385427475, -0.09642510116100311, 0.004547174088656902, 0.013642487116158009, -0.07578513026237488, 0.0015167943201959133, 0.01264380943030119, 0.039357904344797134, 0.025811729952692986, 0.010000502690672874, 0.003953131847083569, 0.1066180169582367, 0.07008884847164154, 0.003821327118203044, -0.028669051826000214, -0.04812321811914444, 0.023298731073737144, -0.07286633551120758, 0.10862238705158234, -0.003002002602443099, 0.045723915100097656, 0.02851780131459236, -0.0616031251847744, -0.04397084191441536, -0.04367738217115402, -0.01679394394159317, -0.024261174723505974, -0.00818062573671341, 0.027305446565151215, 0.06230500340461731, -0.026362722739577293, 0.04584571719169617, -0.036544930189847946, -0.011483732610940933, -0.0077908155508339405, -0.011519087478518486, -0.13225163519382477, 0.06266407668590546, 0.0849027931690216, 0.13822101056575775, -0.062006957828998566, 0.011805319227278233, -0.06743830442428589, 0.03455710783600807, -0.027235476300120354, -0.04584901034832001, 0.01787574775516987, 0.019349608570337296, -0.010784818790853024, 0.05677272379398346, -0.0031382690649479628, 0.0594610758125782, -0.056154292076826096, -0.04563065618276596, -0.011725593358278275, -0.07855505496263504, 0.031177056953310966, 0.0444999635219574, -0.05853131413459778, -0.07459670305252075, -0.11164923757314682, -0.08641167730093002, -0.0022322924342006445, -0.055675607174634933, -0.029581371694803238, -0.019913261756300926, 0.020892446860671043, 4.484200326260179e-05, 0.016313310712575912, -0.019239692017436028, 0.0073432461358606815, -0.05691513046622276, -0.060246046632528305, -0.06726788729429245, 0.056991443037986755, 5.757122071080359e-33, -0.11671588569879532, -0.04787515103816986, 0.024304542690515518, -0.007873354479670525, -0.07164964079856873, -0.04347355663776398, -0.0005882379482500255, -0.012201101519167423, -0.010133740492165089, 0.012090025469660759, -0.01318196952342987, 0.013157041743397713, -0.11160210520029068, 0.022420017048716545, 0.07929772138595581, 0.020015979185700417, 0.010653252713382244, 0.018925659358501434, -0.07727372646331787, 0.06650301814079285, -0.019031263887882233, 0.04687989503145218, 0.04418342188000679, -0.012243758887052536, 0.017359508201479912, -0.03638288751244545, 0.03686295077204704, -0.05764247477054596, -0.08014412224292755, 0.05139583721756935, 0.0679701492190361, -0.066139817237854, 0.01598692312836647, -0.01742282137274742, -0.08709701150655746, -0.048424843698740005, -0.03139858320355415, -0.018943186849355698, 0.0359848290681839, -0.015174001455307007, -0.05667756125330925, -0.016627700999379158, 0.002675814786925912, 0.07279299199581146, -0.01660851202905178, 0.15623928606510162, 0.020053811371326447, -0.0036489381454885006, -0.042884569615125656, -0.010872316546738148, -0.005499964114278555, 0.04295509681105614, 0.006219594739377499, 0.018311316147446632, 0.06155114248394966, 0.049766361713409424, 0.07751662284135818, -0.05067325010895729, -0.09273548424243927, 0.04337528347969055, -0.025706471875309944, 0.0692405104637146, -0.01622432842850685, -0.035529907792806625, 0.035152386873960495, 0.027524137869477272, -0.031593408435583115, 0.002132043009623885, 0.06902913004159927, -0.028676940128207207, 0.007580756209790707, -0.029038462787866592, -0.05763733759522438, 0.08411040902137756, -0.051065295934677124, -0.018209055066108704, -0.03221716731786728, 0.008495676331222057, -0.02327129989862442, 0.10360080748796463, -0.04715124890208244, 0.050717633217573166, -0.01996731571853161, -0.08733557909727097, 0.04307292774319649, 0.04250308498740196, 0.061885274946689606, -0.02901814691722393, 0.057500094175338745, 0.0996256098151207, 0.003113691695034504, -0.021080011501908302, -0.021313069388270378, 0.009604323655366898, -0.01066148653626442, -1.1082316089790762e-32, 0.02246198058128357, 0.05014039948582649, -0.0436362586915493, 0.04319089278578758, 0.014806048944592476, -0.022129062563180923, -0.03533601015806198, -0.01296608243137598, 0.04126867651939392, 0.07568330317735672, -0.022778157144784927, 0.004464614205062389, -0.0020230780355632305, 0.008317655883729458, 0.012391247786581516, 0.023457810282707214, -0.004618538543581963, 0.016717594116926193, -0.03969210758805275, 0.07550640404224396, -0.024753371253609657, 0.0006305664428509772, -0.02586478181183338, 0.02483496256172657, -0.06750300526618958, -0.028255287557840347, -0.02914677932858467, 0.005055231507867575, -0.041988544166088104, -0.03363962098956108, 0.04718657582998276, -0.09567121416330338, 0.05342181771993637, 0.07293439656496048, 0.055894885212183, -0.11131345480680466, -0.032456427812576294, -0.06448210775852203, -0.007085234858095646, -0.05535496026277542, -0.00183054618537426, -0.03703378513455391, 0.06931701302528381, -0.06637194752693176, -0.0117534464225173, -0.060574255883693695, -0.042111288756132126, -0.05767349526286125, 0.013262995518743992, -0.07821599394083023, 0.10719425231218338, 0.01394493319094181, -0.0018789161695167422, -0.061514392495155334, 0.0739780068397522, 0.0016911791171878576, 0.007284015417098999, 0.029222439974546432, -0.01549705769866705, -0.026651648804545403, 0.04017439857125282, -0.030120911076664925, -0.017243914306163788, 0.0845847949385643, -0.07275514304637909, 0.024766767397522926, 0.042240604758262634, -0.07882045209407806, -0.020201612263917923, -0.0512232631444931, 0.0250225979834795, 0.010713603347539902, 0.09445089101791382, 0.0012765387073159218, -0.11785255372524261, -0.02361224591732025, -0.006602723617106676, -0.005651433952152729, 0.024885986000299454, -0.007404424715787172, -0.07830581814050674, 0.04434237629175186, -0.004738550167530775, -0.030357347801327705, -0.09630075842142105, -0.0772223249077797, -0.011737464927136898, -0.01265577133744955, -0.020551912486553192, -0.03310273215174675, -0.006986969616264105, 0.06579411029815674, -0.06467689573764801, 0.016722818836569786, 0.025864960625767708, -6.74729889738046e-08, 0.01435582060366869, -0.10713935643434525, 0.05957303196191788, 0.014457138255238533, 0.024237249046564102, 0.0008713285787962377, 0.04152456670999527, 0.02022590860724449, -0.023231763392686844, -0.0010369071969762444, 0.06980496644973755, 0.03986069932579994, -0.0910438820719719, 0.0790572315454483, -0.05506015568971634, -0.09717665612697601, 0.029669463634490967, 0.08205384016036987, 0.015298712067306042, -0.029271207749843597, 0.03958223760128021, -0.03370223566889763, -0.054869696497917175, 0.016918711364269257, -0.024194903671741486, 0.01724979653954506, -0.012048192322254181, -0.026754532009363174, 0.0051142205484211445, -0.043591827154159546, -0.0038825811352580786, -0.030723711475729942, 0.0005513692740350962, -0.04155445471405983, 0.041734155267477036, -0.022711383178830147, -0.05165264755487442, 0.0019999053329229355, -0.030036775395274162, 0.013122640550136566, -0.03614295646548271, -0.09906812012195587, 0.0576113685965538, 0.03177979215979576, 0.06513631343841553, -0.02586452290415764, 0.020204925909638405, -0.03100590594112873, -0.03583566099405289, 0.03948352485895157, -0.026186011731624603, -0.017085585743188858, 0.001375515596009791, -0.020843738690018654, 0.020826395601034164, 0.03732386231422424, 0.017785867676138878, 0.03167783096432686, -0.03965366259217262, 0.010524033568799496, 0.016324730589985847, 0.04119270294904709, 0.04389975965023041, 0.011871950700879097]\n"
     ]
    }
   ],
   "source": [
    "from langchain.embeddings import HuggingFaceEmbeddings\n",
    "embeddings = HuggingFaceEmbeddings(model_name = \"sentence-transformers/all-MiniLM-L6-v2\")\n",
    "\n",
    "text = \"진희는 강아지를 키우고 있습니다. 진희가 키우고 있는 동물은?\"\n",
    "text_embedding = embeddings.embed_query(text)\n",
    "print(text_embedding)"
   ]
  },
  {
   "cell_type": "code",
   "execution_count": 12,
   "id": "d217e243",
   "metadata": {},
   "outputs": [
    {
     "name": "stdout",
     "output_type": "stream",
     "text": [
      "마을 무덤에서 남자를 죽인 사람은 Injun Joe입니다.\n"
     ]
    }
   ],
   "source": [
    "from langchain.chat_models import ChatOpenAI\n",
    "llm = ChatOpenAI(temperature=0,  # 창의성 0으로 설정 \n",
    "                 model_name='gpt-3.5-turbo',  # 모델명\n",
    "                )\n",
    "\n",
    "from langchain.chains import RetrievalQA\n",
    "retriever = db.as_retriever()\n",
    "\n",
    "qa = RetrievalQA.from_chain_type(\n",
    "    llm=llm, \n",
    "    chain_type=\"stuff\", \n",
    "    retriever=retriever)\n",
    "\n",
    "query = \"마을 무덤에 있던 남자를 죽인 사람은 누구니?\"\n",
    "result = qa({\"query\": query})\n",
    "print(result['result'])"
   ]
  },
  {
   "cell_type": "code",
   "execution_count": null,
   "id": "5d4281ef",
   "metadata": {},
   "outputs": [],
   "source": []
  }
 ],
 "metadata": {
  "kernelspec": {
   "display_name": "openai_f",
   "language": "python",
   "name": "openai"
  },
  "language_info": {
   "codemirror_mode": {
    "name": "ipython",
    "version": 3
   },
   "file_extension": ".py",
   "mimetype": "text/x-python",
   "name": "python",
   "nbconvert_exporter": "python",
   "pygments_lexer": "ipython3",
   "version": "3.8.19"
  }
 },
 "nbformat": 4,
 "nbformat_minor": 5
}
